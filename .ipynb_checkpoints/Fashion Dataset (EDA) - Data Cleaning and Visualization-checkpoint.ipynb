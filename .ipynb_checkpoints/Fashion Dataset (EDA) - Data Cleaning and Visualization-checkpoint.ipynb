{
 "cells": [
  {
   "cell_type": "code",
   "execution_count": 91,
   "id": "326d418f",
   "metadata": {},
   "outputs": [
    {
     "data": {
      "text/html": [
       "<div>\n",
       "<style scoped>\n",
       "    .dataframe tbody tr th:only-of-type {\n",
       "        vertical-align: middle;\n",
       "    }\n",
       "\n",
       "    .dataframe tbody tr th {\n",
       "        vertical-align: top;\n",
       "    }\n",
       "\n",
       "    .dataframe thead th {\n",
       "        text-align: right;\n",
       "    }\n",
       "</style>\n",
       "<table border=\"1\" class=\"dataframe\">\n",
       "  <thead>\n",
       "    <tr style=\"text-align: right;\">\n",
       "      <th></th>\n",
       "      <th>Index</th>\n",
       "      <th>BrandName</th>\n",
       "      <th>Deatils</th>\n",
       "      <th>Sizes</th>\n",
       "      <th>MRP</th>\n",
       "      <th>SellPrice</th>\n",
       "      <th>Discount</th>\n",
       "      <th>Category</th>\n",
       "    </tr>\n",
       "  </thead>\n",
       "  <tbody>\n",
       "    <tr>\n",
       "      <th>0</th>\n",
       "      <td>0</td>\n",
       "      <td>life</td>\n",
       "      <td>solid cotton blend collar neck womens a-line d...</td>\n",
       "      <td>Size:Large,Medium,Small,X-Large,X-Small</td>\n",
       "      <td>Rs\\n1699</td>\n",
       "      <td>849</td>\n",
       "      <td>50% off</td>\n",
       "      <td>Westernwear-Women</td>\n",
       "    </tr>\n",
       "    <tr>\n",
       "      <th>1</th>\n",
       "      <td>1</td>\n",
       "      <td>only</td>\n",
       "      <td>polyester peter pan collar womens blouson dres...</td>\n",
       "      <td>Size:34,36,38,40</td>\n",
       "      <td>Rs\\n3499</td>\n",
       "      <td>2449</td>\n",
       "      <td>30% off</td>\n",
       "      <td>Westernwear-Women</td>\n",
       "    </tr>\n",
       "    <tr>\n",
       "      <th>2</th>\n",
       "      <td>2</td>\n",
       "      <td>fratini</td>\n",
       "      <td>solid polyester blend wide neck womens regular...</td>\n",
       "      <td>Size:Large,X-Large,XX-Large</td>\n",
       "      <td>Rs\\n1199</td>\n",
       "      <td>599</td>\n",
       "      <td>50% off</td>\n",
       "      <td>Westernwear-Women</td>\n",
       "    </tr>\n",
       "    <tr>\n",
       "      <th>3</th>\n",
       "      <td>3</td>\n",
       "      <td>zink london</td>\n",
       "      <td>stripes polyester sweetheart neck womens dress...</td>\n",
       "      <td>Size:Large,Medium,Small,X-Large</td>\n",
       "      <td>Rs\\n2299</td>\n",
       "      <td>1379</td>\n",
       "      <td>40% off</td>\n",
       "      <td>Westernwear-Women</td>\n",
       "    </tr>\n",
       "    <tr>\n",
       "      <th>4</th>\n",
       "      <td>4</td>\n",
       "      <td>life</td>\n",
       "      <td>regular fit regular length denim womens jeans ...</td>\n",
       "      <td>Size:26,28,30,32,34,36</td>\n",
       "      <td>Rs\\n1699</td>\n",
       "      <td>849</td>\n",
       "      <td>50% off</td>\n",
       "      <td>Westernwear-Women</td>\n",
       "    </tr>\n",
       "  </tbody>\n",
       "</table>\n",
       "</div>"
      ],
      "text/plain": [
       "   Index    BrandName                                            Deatils  \\\n",
       "0      0         life  solid cotton blend collar neck womens a-line d...   \n",
       "1      1         only  polyester peter pan collar womens blouson dres...   \n",
       "2      2      fratini  solid polyester blend wide neck womens regular...   \n",
       "3      3  zink london  stripes polyester sweetheart neck womens dress...   \n",
       "4      4         life  regular fit regular length denim womens jeans ...   \n",
       "\n",
       "                                     Sizes       MRP SellPrice Discount  \\\n",
       "0  Size:Large,Medium,Small,X-Large,X-Small  Rs\\n1699       849  50% off   \n",
       "1                         Size:34,36,38,40  Rs\\n3499      2449  30% off   \n",
       "2              Size:Large,X-Large,XX-Large  Rs\\n1199       599  50% off   \n",
       "3          Size:Large,Medium,Small,X-Large  Rs\\n2299      1379  40% off   \n",
       "4                   Size:26,28,30,32,34,36  Rs\\n1699       849  50% off   \n",
       "\n",
       "            Category  \n",
       "0  Westernwear-Women  \n",
       "1  Westernwear-Women  \n",
       "2  Westernwear-Women  \n",
       "3  Westernwear-Women  \n",
       "4  Westernwear-Women  "
      ]
     },
     "execution_count": 91,
     "metadata": {},
     "output_type": "execute_result"
    }
   ],
   "source": [
    "import numpy as np\n",
    "import pandas as pd\n",
    "import matplotlib.pyplot as plt\n",
    "import seaborn as sns\n",
    "%matplotlib inline\n",
    "\n",
    "data = pd.read_csv('C:/Users/Randy/Downloads/IE things/Stats/Fashion/FashionDataset.csv')\n",
    "data.head()"
   ]
  },
  {
   "cell_type": "code",
   "execution_count": 92,
   "id": "fcce4458",
   "metadata": {},
   "outputs": [
    {
     "name": "stdout",
     "output_type": "stream",
     "text": [
      "---Column names---\n",
      "\n",
      "Index(['Index', 'BrandName', 'Deatils', 'Sizes', 'MRP', 'SellPrice',\n",
      "       'Discount', 'Category'],\n",
      "      dtype='object')\n",
      "\n",
      "---Info---\n",
      "\n",
      "<class 'pandas.core.frame.DataFrame'>\n",
      "RangeIndex: 30758 entries, 0 to 30757\n",
      "Data columns (total 8 columns):\n",
      " #   Column     Non-Null Count  Dtype \n",
      "---  ------     --------------  ----- \n",
      " 0   Index      30758 non-null  int64 \n",
      " 1   BrandName  30758 non-null  object\n",
      " 2   Deatils    30758 non-null  object\n",
      " 3   Sizes      30758 non-null  object\n",
      " 4   MRP        30758 non-null  object\n",
      " 5   SellPrice  30758 non-null  object\n",
      " 6   Discount   30758 non-null  object\n",
      " 7   Category   30758 non-null  object\n",
      "dtypes: int64(1), object(7)\n",
      "memory usage: 1.9+ MB\n",
      "None\n",
      "\n",
      "---Data Shape---\n",
      "\n",
      "(30758, 8)\n"
     ]
    }
   ],
   "source": [
    "print(\"---Column names---\")\n",
    "print(\"\")\n",
    "print(data.columns)\n",
    "print(\"\")\n",
    "print(\"---Info---\")\n",
    "print(\"\")\n",
    "print(data.info())\n",
    "print(\"\")\n",
    "print(\"---Data Shape---\")\n",
    "print(\"\")\n",
    "print(data.shape)"
   ]
  },
  {
   "cell_type": "code",
   "execution_count": 96,
   "id": "ca6cf27c",
   "metadata": {},
   "outputs": [
    {
     "data": {
      "text/html": [
       "<div>\n",
       "<style scoped>\n",
       "    .dataframe tbody tr th:only-of-type {\n",
       "        vertical-align: middle;\n",
       "    }\n",
       "\n",
       "    .dataframe tbody tr th {\n",
       "        vertical-align: top;\n",
       "    }\n",
       "\n",
       "    .dataframe thead th {\n",
       "        text-align: right;\n",
       "    }\n",
       "</style>\n",
       "<table border=\"1\" class=\"dataframe\">\n",
       "  <thead>\n",
       "    <tr style=\"text-align: right;\">\n",
       "      <th></th>\n",
       "      <th>BrandName</th>\n",
       "      <th>Deatils</th>\n",
       "      <th>Sizes</th>\n",
       "      <th>MRP</th>\n",
       "      <th>SellPrice</th>\n",
       "      <th>Discount</th>\n",
       "      <th>Category</th>\n",
       "    </tr>\n",
       "    <tr>\n",
       "      <th>Index</th>\n",
       "      <th></th>\n",
       "      <th></th>\n",
       "      <th></th>\n",
       "      <th></th>\n",
       "      <th></th>\n",
       "      <th></th>\n",
       "      <th></th>\n",
       "    </tr>\n",
       "  </thead>\n",
       "  <tbody>\n",
       "    <tr>\n",
       "      <th>0</th>\n",
       "      <td>life</td>\n",
       "      <td>solid cotton blend collar neck womens a-line d...</td>\n",
       "      <td>Size:Large,Medium,Small,X-Large,X-Small</td>\n",
       "      <td>Rs\\n1699</td>\n",
       "      <td>849</td>\n",
       "      <td>50% off</td>\n",
       "      <td>Westernwear-Women</td>\n",
       "    </tr>\n",
       "    <tr>\n",
       "      <th>1</th>\n",
       "      <td>only</td>\n",
       "      <td>polyester peter pan collar womens blouson dres...</td>\n",
       "      <td>Size:34,36,38,40</td>\n",
       "      <td>Rs\\n3499</td>\n",
       "      <td>2449</td>\n",
       "      <td>30% off</td>\n",
       "      <td>Westernwear-Women</td>\n",
       "    </tr>\n",
       "    <tr>\n",
       "      <th>2</th>\n",
       "      <td>fratini</td>\n",
       "      <td>solid polyester blend wide neck womens regular...</td>\n",
       "      <td>Size:Large,X-Large,XX-Large</td>\n",
       "      <td>Rs\\n1199</td>\n",
       "      <td>599</td>\n",
       "      <td>50% off</td>\n",
       "      <td>Westernwear-Women</td>\n",
       "    </tr>\n",
       "    <tr>\n",
       "      <th>3</th>\n",
       "      <td>zink london</td>\n",
       "      <td>stripes polyester sweetheart neck womens dress...</td>\n",
       "      <td>Size:Large,Medium,Small,X-Large</td>\n",
       "      <td>Rs\\n2299</td>\n",
       "      <td>1379</td>\n",
       "      <td>40% off</td>\n",
       "      <td>Westernwear-Women</td>\n",
       "    </tr>\n",
       "    <tr>\n",
       "      <th>4</th>\n",
       "      <td>life</td>\n",
       "      <td>regular fit regular length denim womens jeans ...</td>\n",
       "      <td>Size:26,28,30,32,34,36</td>\n",
       "      <td>Rs\\n1699</td>\n",
       "      <td>849</td>\n",
       "      <td>50% off</td>\n",
       "      <td>Westernwear-Women</td>\n",
       "    </tr>\n",
       "  </tbody>\n",
       "</table>\n",
       "</div>"
      ],
      "text/plain": [
       "         BrandName                                            Deatils  \\\n",
       "Index                                                                   \n",
       "0             life  solid cotton blend collar neck womens a-line d...   \n",
       "1             only  polyester peter pan collar womens blouson dres...   \n",
       "2          fratini  solid polyester blend wide neck womens regular...   \n",
       "3      zink london  stripes polyester sweetheart neck womens dress...   \n",
       "4             life  regular fit regular length denim womens jeans ...   \n",
       "\n",
       "                                         Sizes       MRP SellPrice Discount  \\\n",
       "Index                                                                         \n",
       "0      Size:Large,Medium,Small,X-Large,X-Small  Rs\\n1699       849  50% off   \n",
       "1                             Size:34,36,38,40  Rs\\n3499      2449  30% off   \n",
       "2                  Size:Large,X-Large,XX-Large  Rs\\n1199       599  50% off   \n",
       "3              Size:Large,Medium,Small,X-Large  Rs\\n2299      1379  40% off   \n",
       "4                       Size:26,28,30,32,34,36  Rs\\n1699       849  50% off   \n",
       "\n",
       "                Category  \n",
       "Index                     \n",
       "0      Westernwear-Women  \n",
       "1      Westernwear-Women  \n",
       "2      Westernwear-Women  \n",
       "3      Westernwear-Women  \n",
       "4      Westernwear-Women  "
      ]
     },
     "execution_count": 96,
     "metadata": {},
     "output_type": "execute_result"
    }
   ],
   "source": [
    "data_mod = data.set_index('Index')\n",
    "data_mod.head()"
   ]
  },
  {
   "cell_type": "code",
   "execution_count": 97,
   "id": "d2819dc3",
   "metadata": {},
   "outputs": [
    {
     "data": {
      "text/plain": [
       "[dtype('O')]"
      ]
     },
     "execution_count": 97,
     "metadata": {},
     "output_type": "execute_result"
    }
   ],
   "source": [
    "list(set(data_mod.dtypes.tolist()))"
   ]
  },
  {
   "cell_type": "code",
   "execution_count": 98,
   "id": "1d8449d3",
   "metadata": {},
   "outputs": [
    {
     "data": {
      "text/plain": [
       "False"
      ]
     },
     "execution_count": 98,
     "metadata": {},
     "output_type": "execute_result"
    }
   ],
   "source": [
    "data_mod.isnull().values.any()"
   ]
  },
  {
   "cell_type": "code",
   "execution_count": 99,
   "id": "306c6206",
   "metadata": {
    "scrolled": true
   },
   "outputs": [
    {
     "data": {
      "text/html": [
       "<div>\n",
       "<style scoped>\n",
       "    .dataframe tbody tr th:only-of-type {\n",
       "        vertical-align: middle;\n",
       "    }\n",
       "\n",
       "    .dataframe tbody tr th {\n",
       "        vertical-align: top;\n",
       "    }\n",
       "\n",
       "    .dataframe thead th {\n",
       "        text-align: right;\n",
       "    }\n",
       "</style>\n",
       "<table border=\"1\" class=\"dataframe\">\n",
       "  <thead>\n",
       "    <tr style=\"text-align: right;\">\n",
       "      <th></th>\n",
       "      <th>Percent</th>\n",
       "      <th>Percent</th>\n",
       "    </tr>\n",
       "  </thead>\n",
       "  <tbody>\n",
       "    <tr>\n",
       "      <th>Westernwear-Women</th>\n",
       "      <td>10374</td>\n",
       "      <td>33.727811</td>\n",
       "    </tr>\n",
       "    <tr>\n",
       "      <th>Indianwear-Women</th>\n",
       "      <td>10374</td>\n",
       "      <td>33.727811</td>\n",
       "    </tr>\n",
       "    <tr>\n",
       "      <th>Lingerie&amp;Nightwear-Women</th>\n",
       "      <td>3354</td>\n",
       "      <td>10.904480</td>\n",
       "    </tr>\n",
       "    <tr>\n",
       "      <th>Footwear-Women</th>\n",
       "      <td>2574</td>\n",
       "      <td>8.368555</td>\n",
       "    </tr>\n",
       "    <tr>\n",
       "      <th>Watches-Women</th>\n",
       "      <td>1794</td>\n",
       "      <td>5.832629</td>\n",
       "    </tr>\n",
       "    <tr>\n",
       "      <th>Jewellery-Women</th>\n",
       "      <td>1794</td>\n",
       "      <td>5.832629</td>\n",
       "    </tr>\n",
       "    <tr>\n",
       "      <th>Fragrance-Women</th>\n",
       "      <td>494</td>\n",
       "      <td>1.606086</td>\n",
       "    </tr>\n",
       "  </tbody>\n",
       "</table>\n",
       "</div>"
      ],
      "text/plain": [
       "                          Percent    Percent\n",
       "Westernwear-Women           10374  33.727811\n",
       "Indianwear-Women            10374  33.727811\n",
       "Lingerie&Nightwear-Women     3354  10.904480\n",
       "Footwear-Women               2574   8.368555\n",
       "Watches-Women                1794   5.832629\n",
       "Jewellery-Women              1794   5.832629\n",
       "Fragrance-Women               494   1.606086"
      ]
     },
     "execution_count": 99,
     "metadata": {},
     "output_type": "execute_result"
    }
   ],
   "source": [
    "data_category_values = pd.DataFrame(data['Category'].value_counts())\n",
    "data_category_percent = pd.DataFrame(data['Category'].value_counts(normalize=True)*100)\n",
    "data_category = pd.concat([data_category_values, data_category_percent], axis=1)\n",
    "sample = data_category.rename(columns={'Category': 'Count', 'Category': 'Percent'})\n",
    "sample"
   ]
  },
  {
   "cell_type": "code",
   "execution_count": 46,
   "id": "2ec416a1",
   "metadata": {},
   "outputs": [
    {
     "name": "stderr",
     "output_type": "stream",
     "text": [
      "C:\\Users\\Randy\\anaconda3\\lib\\site-packages\\seaborn\\_decorators.py:36: FutureWarning: Pass the following variable as a keyword arg: x. From version 0.12, the only valid positional argument will be `data`, and passing other arguments without an explicit keyword will result in an error or misinterpretation.\n",
      "  warnings.warn(\n"
     ]
    },
    {
     "data": {
      "text/plain": [
       "<AxesSubplot:xlabel='Category', ylabel='count'>"
      ]
     },
     "execution_count": 46,
     "metadata": {},
     "output_type": "execute_result"
    },
    {
     "data": {
      "image/png": "[encoded data removed]",
      "text/plain": [
       "<Figure size 1440x1080 with 1 Axes>"
      ]
     },
     "metadata": {
      "needs_background": "light"
     },
     "output_type": "display_data"
    }
   ],
   "source": [
    "plt.figure(figsize=(20,15))\n",
    "sns.countplot('Category',data=data_cat ,palette='spring')"
   ]
  },
  {
   "cell_type": "code",
   "execution_count": 112,
   "id": "d09c7c29",
   "metadata": {},
   "outputs": [
    {
     "data": {
      "text/html": [
       "<div>\n",
       "<style scoped>\n",
       "    .dataframe tbody tr th:only-of-type {\n",
       "        vertical-align: middle;\n",
       "    }\n",
       "\n",
       "    .dataframe tbody tr th {\n",
       "        vertical-align: top;\n",
       "    }\n",
       "\n",
       "    .dataframe thead th {\n",
       "        text-align: right;\n",
       "    }\n",
       "</style>\n",
       "<table border=\"1\" class=\"dataframe\">\n",
       "  <thead>\n",
       "    <tr style=\"text-align: right;\">\n",
       "      <th></th>\n",
       "      <th>BrandName</th>\n",
       "      <th>Deatils</th>\n",
       "      <th>Sizes</th>\n",
       "      <th>MRP</th>\n",
       "      <th>SellPrice</th>\n",
       "      <th>Discount</th>\n",
       "      <th>Category</th>\n",
       "    </tr>\n",
       "    <tr>\n",
       "      <th>Index</th>\n",
       "      <th></th>\n",
       "      <th></th>\n",
       "      <th></th>\n",
       "      <th></th>\n",
       "      <th></th>\n",
       "      <th></th>\n",
       "      <th></th>\n",
       "    </tr>\n",
       "  </thead>\n",
       "  <tbody>\n",
       "    <tr>\n",
       "      <th>0</th>\n",
       "      <td>life</td>\n",
       "      <td>solid cotton blend collar neck womens a-line d...</td>\n",
       "      <td>Size:Large,Medium,Small,X-Large,X-Small</td>\n",
       "      <td>Rs\\n1699</td>\n",
       "      <td>849.0</td>\n",
       "      <td>50% off</td>\n",
       "      <td>Westernwear-Women</td>\n",
       "    </tr>\n",
       "    <tr>\n",
       "      <th>1</th>\n",
       "      <td>only</td>\n",
       "      <td>polyester peter pan collar womens blouson dres...</td>\n",
       "      <td>Size:34,36,38,40</td>\n",
       "      <td>Rs\\n3499</td>\n",
       "      <td>2449.0</td>\n",
       "      <td>30% off</td>\n",
       "      <td>Westernwear-Women</td>\n",
       "    </tr>\n",
       "    <tr>\n",
       "      <th>2</th>\n",
       "      <td>fratini</td>\n",
       "      <td>solid polyester blend wide neck womens regular...</td>\n",
       "      <td>Size:Large,X-Large,XX-Large</td>\n",
       "      <td>Rs\\n1199</td>\n",
       "      <td>599.0</td>\n",
       "      <td>50% off</td>\n",
       "      <td>Westernwear-Women</td>\n",
       "    </tr>\n",
       "    <tr>\n",
       "      <th>3</th>\n",
       "      <td>zink london</td>\n",
       "      <td>stripes polyester sweetheart neck womens dress...</td>\n",
       "      <td>Size:Large,Medium,Small,X-Large</td>\n",
       "      <td>Rs\\n2299</td>\n",
       "      <td>1379.0</td>\n",
       "      <td>40% off</td>\n",
       "      <td>Westernwear-Women</td>\n",
       "    </tr>\n",
       "    <tr>\n",
       "      <th>4</th>\n",
       "      <td>life</td>\n",
       "      <td>regular fit regular length denim womens jeans ...</td>\n",
       "      <td>Size:26,28,30,32,34,36</td>\n",
       "      <td>Rs\\n1699</td>\n",
       "      <td>849.0</td>\n",
       "      <td>50% off</td>\n",
       "      <td>Westernwear-Women</td>\n",
       "    </tr>\n",
       "  </tbody>\n",
       "</table>\n",
       "</div>"
      ],
      "text/plain": [
       "         BrandName                                            Deatils  \\\n",
       "Index                                                                   \n",
       "0             life  solid cotton blend collar neck womens a-line d...   \n",
       "1             only  polyester peter pan collar womens blouson dres...   \n",
       "2          fratini  solid polyester blend wide neck womens regular...   \n",
       "3      zink london  stripes polyester sweetheart neck womens dress...   \n",
       "4             life  regular fit regular length denim womens jeans ...   \n",
       "\n",
       "                                         Sizes       MRP  SellPrice Discount  \\\n",
       "Index                                                                          \n",
       "0      Size:Large,Medium,Small,X-Large,X-Small  Rs\\n1699      849.0  50% off   \n",
       "1                             Size:34,36,38,40  Rs\\n3499     2449.0  30% off   \n",
       "2                  Size:Large,X-Large,XX-Large  Rs\\n1199      599.0  50% off   \n",
       "3              Size:Large,Medium,Small,X-Large  Rs\\n2299     1379.0  40% off   \n",
       "4                       Size:26,28,30,32,34,36  Rs\\n1699      849.0  50% off   \n",
       "\n",
       "                Category  \n",
       "Index                     \n",
       "0      Westernwear-Women  \n",
       "1      Westernwear-Women  \n",
       "2      Westernwear-Women  \n",
       "3      Westernwear-Women  \n",
       "4      Westernwear-Women  "
      ]
     },
     "execution_count": 112,
     "metadata": {},
     "output_type": "execute_result"
    }
   ],
   "source": [
    "data_mod['SellPrice'] = data_mod['SellPrice'].astype(float)\n",
    "data_mod.head()"
   ]
  },
  {
   "cell_type": "code",
   "execution_count": 109,
   "id": "f67c5c42",
   "metadata": {},
   "outputs": [
    {
     "name": "stderr",
     "output_type": "stream",
     "text": [
      "C:\\Users\\Randy\\anaconda3\\lib\\site-packages\\seaborn\\_decorators.py:36: FutureWarning: Pass the following variables as keyword args: x, y. From version 0.12, the only valid positional argument will be `data`, and passing other arguments without an explicit keyword will result in an error or misinterpretation.\n",
      "  warnings.warn(\n"
     ]
    },
    {
     "data": {
      "text/plain": [
       "<AxesSubplot:xlabel='Category', ylabel='SellPrice'>"
      ]
     },
     "execution_count": 109,
     "metadata": {},
     "output_type": "execute_result"
    },
    {
     "data": {
      "image/png": "[encoded data removed]",
      "text/plain": [
       "<Figure size 1296x720 with 1 Axes>"
      ]
     },
     "metadata": {
      "needs_background": "light"
     },
     "output_type": "display_data"
    }
   ],
   "source": [
    "plt.figure(figsize=(18,10))\n",
    "sns.barplot('Category','SellPrice',data=data_mod,palette='summer')"
   ]
  },
  {
   "cell_type": "code",
   "execution_count": 143,
   "id": "dd7d7cb3",
   "metadata": {},
   "outputs": [
    {
     "data": {
      "text/plain": [
       "Nan        8208\n",
       "50% off    7605\n",
       "30% off    2757\n",
       "60% off    2644\n",
       "40% off    2189\n",
       "           ... \n",
       "27% off       1\n",
       "79% off       1\n",
       "28% off       1\n",
       "36% off       1\n",
       "61% off       1\n",
       "Name: Discount, Length: 66, dtype: int64"
      ]
     },
     "execution_count": 143,
     "metadata": {},
     "output_type": "execute_result"
    }
   ],
   "source": [
    "data_mod['Discount'].value_counts()"
   ]
  },
  {
   "cell_type": "code",
   "execution_count": null,
   "id": "348abee7",
   "metadata": {},
   "outputs": [],
   "source": []
  },
  {
   "cell_type": "code",
   "execution_count": null,
   "id": "dd3ca012",
   "metadata": {},
   "outputs": [],
   "source": []
  },
  {
   "cell_type": "code",
   "execution_count": null,
   "id": "be978863",
   "metadata": {},
   "outputs": [],
   "source": []
  }
 ],
 "metadata": {
  "kernelspec": {
   "display_name": "Python 3 (ipykernel)",
   "language": "python",
   "name": "python3"
  },
  "language_info": {
   "codemirror_mode": {
    "name": "ipython",
    "version": 3
   },
   "file_extension": ".py",
   "mimetype": "text/x-python",
   "name": "python",
   "nbconvert_exporter": "python",
   "pygments_lexer": "ipython3",
   "version": "3.9.12"
  }
 },
 "nbformat": 4,
 "nbformat_minor": 5
}
