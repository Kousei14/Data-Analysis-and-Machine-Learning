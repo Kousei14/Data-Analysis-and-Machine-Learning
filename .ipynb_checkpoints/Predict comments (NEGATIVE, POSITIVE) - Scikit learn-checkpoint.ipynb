{
 "cells": [
  {
   "cell_type": "markdown",
   "id": "85935651",
   "metadata": {},
   "source": [
    "# Create a class to easily acces text, and score"
   ]
  },
  {
   "cell_type": "code",
   "execution_count": 1,
   "id": "a56f9e75",
   "metadata": {},
   "outputs": [],
   "source": [
    "import random\n",
    "\n",
    "class Sentiment:\n",
    "    NEGATIVE = \"NEGATIVE\"\n",
    "    NEUTRAL = \"NEUTRAL\"\n",
    "    POSITIVE = \"POSITIVE\"\n",
    "\n",
    "class Review: #we create a class, Review(text, score)\n",
    "    def __init__(self, text, score): # it means that we can designate values to text and score\n",
    "        self.text = text # Review(text, score).text\n",
    "        self.score = score\n",
    "        self.sentiment = self.get_sentiment() \n",
    "        \n",
    "    def get_sentiment(self):\n",
    "        if self.score <=2:\n",
    "            return Sentiment.NEGATIVE\n",
    "        elif self.score == 3:\n",
    "            return Sentiment.NEUTRAL\n",
    "        else: #score 4 or 5\n",
    "            return Sentiment.POSITIVE\n",
    "        \n",
    "class ReviewContainer: # ReviewContainer(reviews)\n",
    "    def __init__(self, reviews):\n",
    "        self.reviews = reviews\n",
    "        \n",
    "    def get_text(self):\n",
    "        return [x.text for x in self.reviews] # we get the list of text from reviews list\n",
    "        \n",
    "    def get_sentiment(self):\n",
    "        return [x.sentiment for x in self.reviews] # we get the sentiment from reviews list\n",
    "        \n",
    "    def evenly_distribute(self):\n",
    "        negative = list(filter(lambda x: x.sentiment == Sentiment.NEGATIVE, self.reviews))\n",
    "        positive = list(filter(lambda x: x.sentiment == Sentiment.POSITIVE, self.reviews))\n",
    "        positive_shrunk = positive[:len(negative)] # say we have 450 negatives and 600 positives. We only select the 450 positives\n",
    "        self.reviews = negative + positive_shrunk # our new reviews length. using the above example, we have 450 negatives + 450 positives which was shrunk\n",
    "        random.shuffle(self.reviews) # after that we shuffle the list to get random positive and random negative"
   ]
  },
  {
   "cell_type": "markdown",
   "id": "31e2fbb3",
   "metadata": {},
   "source": [
    "# Import data and append it into a list"
   ]
  },
  {
   "cell_type": "code",
   "execution_count": 2,
   "id": "9ffccba9",
   "metadata": {},
   "outputs": [
    {
     "name": "stdout",
     "output_type": "stream",
     "text": [
      "5.0\n",
      "I hoped for Mia to have some peace in this book, but her story is so real and raw.  Broken World was so touching and emotional because you go from Mia's trauma to her trying to cope.  I love the way the story displays how there is no \"just bouncing back\" from being sexually assaulted.  Mia showed us how those demons come for you every day and how sometimes they best you. I was so in the moment with Broken World and hurt with Mia because she was surrounded by people but so alone and I understood her feelings.  I found myself wishing I could give her some of my courage and strength or even just to be there for her.  Thank you Lizzy for putting a great character's voice on a strong subject and making it so that other peoples story may be heard through Mia's.\n",
      "POSITIVE\n"
     ]
    },
    {
     "data": {
      "text/plain": [
       "'POSITIVE'"
      ]
     },
     "execution_count": 2,
     "metadata": {},
     "output_type": "execute_result"
    }
   ],
   "source": [
    "import json\n",
    "import pandas as pd\n",
    "\n",
    "file_name = 'C:/Users/Randy/Downloads/archive/Books_small_10000.json'\n",
    "\n",
    "reviews = []\n",
    "\n",
    "with open(file_name) as f:\n",
    "    for line in f:\n",
    "        review = json.loads(line)\n",
    "        reviews.append(Review(review['reviewText'], review['overall'])) # Review(text, score), we designate a value to each variable so...\n",
    "\n",
    "print(reviews[5].score) # when we called on score, it prints the score\n",
    "print(reviews[5].text)\n",
    "print(reviews[5].get_sentiment()) # same with the code below\n",
    "reviews[5].sentiment # same with the code above"
   ]
  },
  {
   "cell_type": "code",
   "execution_count": 3,
   "id": "3868f624",
   "metadata": {},
   "outputs": [
    {
     "data": {
      "text/plain": [
       "'POSITIVE'"
      ]
     },
     "execution_count": 3,
     "metadata": {},
     "output_type": "execute_result"
    }
   ],
   "source": [
    "reviews[5].sentiment"
   ]
  },
  {
   "cell_type": "code",
   "execution_count": 4,
   "id": "fa7a90cc",
   "metadata": {},
   "outputs": [
    {
     "data": {
      "text/plain": [
       "10000"
      ]
     },
     "execution_count": 4,
     "metadata": {},
     "output_type": "execute_result"
    }
   ],
   "source": [
    "len(reviews)"
   ]
  },
  {
   "cell_type": "markdown",
   "id": "006e379a",
   "metadata": {},
   "source": [
    "# Train Test Split"
   ]
  },
  {
   "cell_type": "code",
   "execution_count": 5,
   "id": "d3c6c2ff",
   "metadata": {},
   "outputs": [],
   "source": [
    "from sklearn.model_selection import train_test_split\n",
    "\n",
    "train, test = train_test_split(reviews, test_size=0.33, random_state=42)\n",
    "\n",
    "train_container = ReviewContainer(train)\n",
    "test_container = ReviewContainer(test)"
   ]
  },
  {
   "cell_type": "code",
   "execution_count": 6,
   "id": "69c1c17f",
   "metadata": {},
   "outputs": [
    {
     "data": {
      "text/plain": [
       "6700"
      ]
     },
     "execution_count": 6,
     "metadata": {},
     "output_type": "execute_result"
    }
   ],
   "source": [
    "len(train) # x variable of train data"
   ]
  },
  {
   "cell_type": "code",
   "execution_count": 7,
   "id": "5b26fa70",
   "metadata": {},
   "outputs": [
    {
     "data": {
      "text/plain": [
       "3300"
      ]
     },
     "execution_count": 7,
     "metadata": {},
     "output_type": "execute_result"
    }
   ],
   "source": [
    "len(test) # x variable of test data"
   ]
  },
  {
   "cell_type": "code",
   "execution_count": 8,
   "id": "3e5ddd87",
   "metadata": {},
   "outputs": [
    {
     "name": "stdout",
     "output_type": "stream",
     "text": [
      "POSITIVE\n"
     ]
    }
   ],
   "source": [
    "print(train[0].sentiment)"
   ]
  },
  {
   "cell_type": "code",
   "execution_count": 9,
   "id": "06988318",
   "metadata": {},
   "outputs": [
    {
     "name": "stdout",
     "output_type": "stream",
     "text": [
      "Train data: 872, 872\n",
      "Test data: 416, 416\n"
     ]
    }
   ],
   "source": [
    "train_container.evenly_distribute() # from the function we created, this splits the review list into equal numbers of POSITIVE AND NEGATIVE\n",
    "\n",
    "train_x = train_container.get_text() # from the train data, we get the text\n",
    "train_y = train_container.get_sentiment() # from the train data, we get the sentiments\n",
    "\n",
    "test_container.evenly_distribute()\n",
    "\n",
    "test_x = test_container.get_text()\n",
    "test_y = test_container.get_sentiment()\n",
    "\n",
    "print(\"Train data: {x}, {y}\".format(x = len(train_x) , y = len(train_y)))\n",
    "print(\"Test data: {0}, {1}\".format(len(test_x) , len(test_y)))"
   ]
  },
  {
   "cell_type": "markdown",
   "id": "bce6f155",
   "metadata": {},
   "source": [
    "# Bag of words"
   ]
  },
  {
   "cell_type": "code",
   "execution_count": 10,
   "id": "0654aeca",
   "metadata": {},
   "outputs": [
    {
     "name": "stdout",
     "output_type": "stream",
     "text": [
      "This book was quite a disappointment for me: the blurb caught my attention but the execution was a far cry from what I was expecting.Darcie is a survivor coming from a totally messed up childhood, at the age of 14 Reggie rescues her becoming her older brother. She always refers to him as her &#34;knight in shining harmor&#34;.The problem is that Darcie is an annoying 17 yo bordering to flat-out stupid that passes her time in fight and suspensions from school. Suddenly she decides that she's always been in love with him, an goes on throwing tantrums nod being insufferable.Reggie is a far cry from a knight in shining harmor, more of a psychopath with anger issues and murdering tendencies.The story is quite unbelievable and most of the times it appears nothing more than a series of scenes without a real logical connection between them.Also the writing wasn't very good: too minimal without a real deepness to the characters and the situations that appear to be flat at best. Sometimes it stemmed to me that the author was more concerned in hurrying to the next scene than doing well the current one.\n",
      "  (0, 7976)\t1\n",
      "  (0, 991)\t1\n",
      "  (0, 8608)\t4\n",
      "  (0, 6322)\t2\n",
      "  (0, 2286)\t1\n",
      "  (0, 3177)\t1\n",
      "  (0, 4982)\t2\n",
      "  (0, 7929)\t12\n",
      "  (0, 965)\t1\n",
      "  (0, 1314)\t1\n",
      "  (0, 5260)\t1\n",
      "  (0, 634)\t1\n",
      "  (0, 1168)\t1\n",
      "  (0, 2837)\t1\n",
      "  (0, 2962)\t2\n",
      "  (0, 1894)\t2\n",
      "  (0, 3264)\t4\n",
      "  (0, 8679)\t1\n",
      "  (0, 2857)\t1\n",
      "  (0, 1979)\t2\n",
      "  (0, 4264)\t5\n",
      "  (0, 7709)\t1\n",
      "  (0, 1567)\t1\n",
      "  (0, 8097)\t1\n",
      "  (0, 5055)\t1\n",
      "  :\t:\n",
      "  (0, 7938)\t1\n",
      "  (0, 377)\t1\n",
      "  (0, 8841)\t1\n",
      "  (0, 8612)\t1\n",
      "  (0, 8497)\t1\n",
      "  (0, 3432)\t1\n",
      "  (0, 8079)\t1\n",
      "  (0, 5102)\t1\n",
      "  (0, 2061)\t1\n",
      "  (0, 1362)\t1\n",
      "  (0, 7188)\t1\n",
      "  (0, 489)\t1\n",
      "  (0, 779)\t1\n",
      "  (0, 862)\t1\n",
      "  (0, 7313)\t1\n",
      "  (0, 7486)\t1\n",
      "  (0, 660)\t1\n",
      "  (0, 1630)\t1\n",
      "  (0, 3935)\t1\n",
      "  (0, 5361)\t1\n",
      "  (0, 6896)\t1\n",
      "  (0, 2369)\t1\n",
      "  (0, 8665)\t1\n",
      "  (0, 1922)\t1\n",
      "  (0, 5514)\t1\n"
     ]
    }
   ],
   "source": [
    "from sklearn.feature_extraction.text import CountVectorizer\n",
    "from sklearn.feature_extraction.text import TfidfTransformer\n",
    "\n",
    "vectorizer = CountVectorizer() # calls and designate a name to the function\n",
    "X_train_vectors = vectorizer.fit_transform(train_x) # fits (make a model) and transforms (scales it) train x data - Vectorized train x data\n",
    "\n",
    "X_test_vectors = vectorizer.transform(test_x) # transforms test x (we do not fit it as it will not be used as a model)\n",
    "\n",
    "\n",
    "print(train_x[0])\n",
    "print(X_train_vectors[0])"
   ]
  },
  {
   "cell_type": "markdown",
   "id": "b2c35b0b",
   "metadata": {},
   "source": [
    "# Classification\n",
    "\n",
    "## Linear SVM"
   ]
  },
  {
   "cell_type": "code",
   "execution_count": 11,
   "id": "6d165650",
   "metadata": {},
   "outputs": [
    {
     "name": "stdout",
     "output_type": "stream",
     "text": [
      "As I was reading this book I kept wondering why we were getting so much endless detail about the inn and the businesses in the town of Boonsboro; seriously, this read almost like a brochure put out by the Boonsboro chamber of commerce, with special emphasis on the inn.  Then I googled Boonsboro and discovered that the inn in question exists in \"real life\" and is owned by the author, as is the bookshop.  This use of a novel to promote a business venture would be fine if the story were interesting.  It's not.  The romance is only a side story -- the real story is about all the details relating to the refurbishment of the Inn, and the plans to buy stuff to put in it.  The heroine is perfectly acceptable but seems untouched by her past, the Hero is unbelievably perfect, and there is absolutely no tension in the relationship at all.  No angst, no obstacles in the way, nothing.  At the end I felt as if I'd been manipulated into reading a long ad for the inn.  I won't be reading the others in the series.\n"
     ]
    },
    {
     "data": {
      "text/plain": [
       "array(['NEGATIVE'], dtype='<U8')"
      ]
     },
     "execution_count": 11,
     "metadata": {},
     "output_type": "execute_result"
    }
   ],
   "source": [
    "from sklearn import svm\n",
    "\n",
    "clf_svm = svm.SVC(kernel='linear') # create an SVM regressor\n",
    "clf_svm.fit(X_train_vectors, train_y) # Fits the X_train_vectors to train_y using SVM\n",
    "\n",
    "# Model\n",
    "print(test_x[0])\n",
    "clf_svm.predict(X_test_vectors[0]) # Uses the model we created to predict a Vectorized test x data\n",
    "\n",
    "# Below, we see that the first element in the test x data has a text. The model predicts whether that text is positive or negative"
   ]
  },
  {
   "cell_type": "markdown",
   "id": "74da6c88",
   "metadata": {},
   "source": [
    "## Decision Tree "
   ]
  },
  {
   "cell_type": "code",
   "execution_count": 12,
   "id": "2b3869b3",
   "metadata": {},
   "outputs": [
    {
     "name": "stdout",
     "output_type": "stream",
     "text": [
      "As I was reading this book I kept wondering why we were getting so much endless detail about the inn and the businesses in the town of Boonsboro; seriously, this read almost like a brochure put out by the Boonsboro chamber of commerce, with special emphasis on the inn.  Then I googled Boonsboro and discovered that the inn in question exists in \"real life\" and is owned by the author, as is the bookshop.  This use of a novel to promote a business venture would be fine if the story were interesting.  It's not.  The romance is only a side story -- the real story is about all the details relating to the refurbishment of the Inn, and the plans to buy stuff to put in it.  The heroine is perfectly acceptable but seems untouched by her past, the Hero is unbelievably perfect, and there is absolutely no tension in the relationship at all.  No angst, no obstacles in the way, nothing.  At the end I felt as if I'd been manipulated into reading a long ad for the inn.  I won't be reading the others in the series.\n"
     ]
    },
    {
     "data": {
      "text/plain": [
       "array(['POSITIVE'], dtype='<U8')"
      ]
     },
     "execution_count": 12,
     "metadata": {},
     "output_type": "execute_result"
    }
   ],
   "source": [
    "from sklearn.tree import DecisionTreeClassifier\n",
    "clf_dec_tree = DecisionTreeClassifier() \n",
    "clf_dec_tree.fit(X_train_vectors, train_y) # fit X_train_vectors to train_y\n",
    "\n",
    "\n",
    "print(test_x[0])\n",
    "clf_dec_tree.predict(X_test_vectors[0])"
   ]
  },
  {
   "cell_type": "markdown",
   "id": "61aebecf",
   "metadata": {},
   "source": [
    "## Naive Bayes"
   ]
  },
  {
   "cell_type": "code",
   "execution_count": 13,
   "id": "22bd270d",
   "metadata": {},
   "outputs": [],
   "source": [
    "class DenseTransformer(): # Makes X dense using toarray() function\n",
    "\n",
    "    def fit(self, X, y=None, **fit_params):\n",
    "        return self\n",
    "\n",
    "    def transform(self, X, y=None, **fit_params):\n",
    "        return X.toarray()"
   ]
  },
  {
   "cell_type": "code",
   "execution_count": 14,
   "id": "a995cd2d",
   "metadata": {},
   "outputs": [
    {
     "name": "stdout",
     "output_type": "stream",
     "text": [
      "As I was reading this book I kept wondering why we were getting so much endless detail about the inn and the businesses in the town of Boonsboro; seriously, this read almost like a brochure put out by the Boonsboro chamber of commerce, with special emphasis on the inn.  Then I googled Boonsboro and discovered that the inn in question exists in \"real life\" and is owned by the author, as is the bookshop.  This use of a novel to promote a business venture would be fine if the story were interesting.  It's not.  The romance is only a side story -- the real story is about all the details relating to the refurbishment of the Inn, and the plans to buy stuff to put in it.  The heroine is perfectly acceptable but seems untouched by her past, the Hero is unbelievably perfect, and there is absolutely no tension in the relationship at all.  No angst, no obstacles in the way, nothing.  At the end I felt as if I'd been manipulated into reading a long ad for the inn.  I won't be reading the others in the series.\n"
     ]
    },
    {
     "data": {
      "text/plain": [
       "array(['POSITIVE'], dtype='<U8')"
      ]
     },
     "execution_count": 14,
     "metadata": {},
     "output_type": "execute_result"
    }
   ],
   "source": [
    "from sklearn.naive_bayes import GaussianNB\n",
    "from sklearn.pipeline import Pipeline # we use pipeline and store all functions inside of it\n",
    "\n",
    "pipeline = Pipeline([('to_dense', DenseTransformer()), ('classifier', GaussianNB())])\n",
    "\n",
    "pipeline.fit(X_train_vectors, train_y)\n",
    "\n",
    "print(test_x[0])\n",
    "pipeline.predict(X_test_vectors[0])"
   ]
  },
  {
   "cell_type": "code",
   "execution_count": 15,
   "id": "94b98e4d",
   "metadata": {},
   "outputs": [
    {
     "name": "stdout",
     "output_type": "stream",
     "text": [
      "As I was reading this book I kept wondering why we were getting so much endless detail about the inn and the businesses in the town of Boonsboro; seriously, this read almost like a brochure put out by the Boonsboro chamber of commerce, with special emphasis on the inn.  Then I googled Boonsboro and discovered that the inn in question exists in \"real life\" and is owned by the author, as is the bookshop.  This use of a novel to promote a business venture would be fine if the story were interesting.  It's not.  The romance is only a side story -- the real story is about all the details relating to the refurbishment of the Inn, and the plans to buy stuff to put in it.  The heroine is perfectly acceptable but seems untouched by her past, the Hero is unbelievably perfect, and there is absolutely no tension in the relationship at all.  No angst, no obstacles in the way, nothing.  At the end I felt as if I'd been manipulated into reading a long ad for the inn.  I won't be reading the others in the series.\n"
     ]
    },
    {
     "data": {
      "text/plain": [
       "array(['NEGATIVE'], dtype='<U8')"
      ]
     },
     "execution_count": 15,
     "metadata": {},
     "output_type": "execute_result"
    }
   ],
   "source": [
    "from sklearn.linear_model import LogisticRegression\n",
    "\n",
    "clf_log = LogisticRegression()\n",
    "clf_log.fit(X_train_vectors, train_y)\n",
    "\n",
    "print(test_x[0])\n",
    "clf_log.predict(X_test_vectors[0])"
   ]
  },
  {
   "cell_type": "markdown",
   "id": "255ec6b3",
   "metadata": {},
   "source": [
    "# Evaluation Metrics"
   ]
  },
  {
   "cell_type": "code",
   "execution_count": 16,
   "id": "83a45447",
   "metadata": {},
   "outputs": [
    {
     "name": "stdout",
     "output_type": "stream",
     "text": [
      "0.6370192307692307\n",
      "0.6346153846153846\n",
      "0.7980769230769231\n",
      "0.8149038461538461\n"
     ]
    }
   ],
   "source": [
    "# Mean Accuracy\n",
    "\n",
    "print(clf_dec_tree.score(X_test_vectors, test_y))\n",
    "print(pipeline.score(X_test_vectors, test_y))\n",
    "print(clf_svm.score(X_test_vectors, test_y))\n",
    "print(clf_log.score(X_test_vectors, test_y))\n"
   ]
  },
  {
   "cell_type": "code",
   "execution_count": 17,
   "id": "1d06a696",
   "metadata": {},
   "outputs": [
    {
     "name": "stdout",
     "output_type": "stream",
     "text": [
      "[0.8028169  0.79310345 0.        ]\n",
      "[0.82051282 0.808933   0.        ]\n"
     ]
    },
    {
     "name": "stderr",
     "output_type": "stream",
     "text": [
      "C:\\Users\\Randy\\anaconda3\\lib\\site-packages\\sklearn\\metrics\\_classification.py:1580: UndefinedMetricWarning: F-score is ill-defined and being set to 0.0 in labels with no true nor predicted samples. Use `zero_division` parameter to control this behavior.\n",
      "  _warn_prf(average, \"true nor predicted\", \"F-score is\", len(true_sum))\n",
      "C:\\Users\\Randy\\anaconda3\\lib\\site-packages\\sklearn\\metrics\\_classification.py:1580: UndefinedMetricWarning: F-score is ill-defined and being set to 0.0 in labels with no true nor predicted samples. Use `zero_division` parameter to control this behavior.\n",
      "  _warn_prf(average, \"true nor predicted\", \"F-score is\", len(true_sum))\n"
     ]
    }
   ],
   "source": [
    "# F1 Score, Confusion Matrix (Sensitivity, Specificity, % of correctly predicting TRUE NEUTRALS)\n",
    "\n",
    "from sklearn.metrics import f1_score\n",
    "\n",
    "print(f1_score(test_y, clf_svm.predict(X_test_vectors), average=None, labels=[Sentiment.POSITIVE, Sentiment.NEGATIVE, Sentiment.NEUTRAL]))\n",
    "print(f1_score(test_y, clf_log.predict(X_test_vectors), average=None, labels=[Sentiment.POSITIVE, Sentiment.NEGATIVE, Sentiment.NEUTRAL]))"
   ]
  },
  {
   "cell_type": "code",
   "execution_count": 18,
   "id": "0889829d",
   "metadata": {},
   "outputs": [
    {
     "data": {
      "text/plain": [
       "208"
      ]
     },
     "execution_count": 18,
     "metadata": {},
     "output_type": "execute_result"
    }
   ],
   "source": [
    "test_y.count(Sentiment.NEGATIVE)"
   ]
  },
  {
   "cell_type": "code",
   "execution_count": 19,
   "id": "a5cf83ac",
   "metadata": {},
   "outputs": [
    {
     "name": "stdout",
     "output_type": "stream",
     "text": [
      "436\n"
     ]
    },
    {
     "data": {
      "text/plain": [
       "436"
      ]
     },
     "execution_count": 19,
     "metadata": {},
     "output_type": "execute_result"
    }
   ],
   "source": [
    "print(train_y.count(Sentiment.NEGATIVE))\n",
    "train_y.count(Sentiment.POSITIVE)# we have 670 train labels, 552 are positive"
   ]
  },
  {
   "cell_type": "markdown",
   "id": "fb4b2b02",
   "metadata": {},
   "source": [
    "# Balance Positives and Negative"
   ]
  },
  {
   "cell_type": "code",
   "execution_count": 20,
   "id": "2ece8acf",
   "metadata": {},
   "outputs": [],
   "source": [
    "# what we have found out in our model is that it is heavily biased on predicting TRUE POSITIVES. Thus we load in more raw data\n",
    "# Since adding raw data did nothing significant, we also equally splitted the counts of negative and positive, both on test and train data\n",
    "# besides vectorizer, we can use tf-idf"
   ]
  },
  {
   "cell_type": "markdown",
   "id": "07584efe",
   "metadata": {},
   "source": [
    "# Testing out the model"
   ]
  },
  {
   "cell_type": "code",
   "execution_count": 21,
   "id": "dc65a8ab",
   "metadata": {},
   "outputs": [
    {
     "name": "stdout",
     "output_type": "stream",
     "text": [
      "Enter a comment: I did not enoy reading the book\n"
     ]
    },
    {
     "data": {
      "text/plain": [
       "array(['NEGATIVE'], dtype='<U8')"
      ]
     },
     "execution_count": 21,
     "metadata": {},
     "output_type": "execute_result"
    }
   ],
   "source": [
    "prototype_data = [input(\"Enter a comment: \")]\n",
    "new_test = vectorizer.transform(prototype_data)\n",
    "\n",
    "clf_svm.predict(new_test)"
   ]
  },
  {
   "cell_type": "markdown",
   "id": "dec508ca",
   "metadata": {},
   "source": [
    "# Saving our Model"
   ]
  },
  {
   "cell_type": "code",
   "execution_count": 308,
   "id": "c7881567",
   "metadata": {},
   "outputs": [],
   "source": [
    "import pickle\n",
    "\n",
    "with open('C:/Users/Randy/Downloads/IE things/ML Models/Sentiment_Classifier.pkl', 'wb') as f:\n",
    "    pickle.dump(clf_svm, f)"
   ]
  },
  {
   "cell_type": "markdown",
   "id": "b3d47956",
   "metadata": {},
   "source": [
    "# Load Model"
   ]
  },
  {
   "cell_type": "code",
   "execution_count": 309,
   "id": "a8b9478e",
   "metadata": {},
   "outputs": [],
   "source": [
    "with open('C:/Users/Randy/Downloads/IE things/ML Models/Sentiment_Classifier.pkl', 'rb') as f:\n",
    "    loaded_clf_svm = pickle.load(f)"
   ]
  },
  {
   "cell_type": "code",
   "execution_count": 312,
   "id": "3b99f404",
   "metadata": {},
   "outputs": [
    {
     "name": "stdout",
     "output_type": "stream",
     "text": [
      "Enter a comment: It was mediocre\n"
     ]
    },
    {
     "data": {
      "text/plain": [
       "array(['NEGATIVE'], dtype='<U8')"
      ]
     },
     "execution_count": 312,
     "metadata": {},
     "output_type": "execute_result"
    }
   ],
   "source": [
    "# Loads the model again\n",
    "\n",
    "prototype_data = [input(\"Enter a comment: \")]\n",
    "new_test = vectorizer.transform(prototype_data)\n",
    "\n",
    "loaded_clf_svm.predict(new_test)"
   ]
  },
  {
   "cell_type": "code",
   "execution_count": null,
   "id": "827069fd",
   "metadata": {},
   "outputs": [],
   "source": []
  }
 ],
 "metadata": {
  "kernelspec": {
   "display_name": "Python 3 (ipykernel)",
   "language": "python",
   "name": "python3"
  },
  "language_info": {
   "codemirror_mode": {
    "name": "ipython",
    "version": 3
   },
   "file_extension": ".py",
   "mimetype": "text/x-python",
   "name": "python",
   "nbconvert_exporter": "python",
   "pygments_lexer": "ipython3",
   "version": "3.9.12"
  }
 },
 "nbformat": 4,
 "nbformat_minor": 5
}
