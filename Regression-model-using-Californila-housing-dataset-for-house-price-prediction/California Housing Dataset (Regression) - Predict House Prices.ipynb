{
 "cells": [
  {
   "cell_type": "code",
   "execution_count": 34,
   "id": "7f2db181",
   "metadata": {},
   "outputs": [
    {
     "data": {
      "text/html": [
       "<div>\n",
       "<style scoped>\n",
       "    .dataframe tbody tr th:only-of-type {\n",
       "        vertical-align: middle;\n",
       "    }\n",
       "\n",
       "    .dataframe tbody tr th {\n",
       "        vertical-align: top;\n",
       "    }\n",
       "\n",
       "    .dataframe thead th {\n",
       "        text-align: right;\n",
       "    }\n",
       "</style>\n",
       "<table border=\"1\" class=\"dataframe\">\n",
       "  <thead>\n",
       "    <tr style=\"text-align: right;\">\n",
       "      <th></th>\n",
       "      <th>longitude</th>\n",
       "      <th>latitude</th>\n",
       "      <th>housing_median_age</th>\n",
       "      <th>total_rooms</th>\n",
       "      <th>total_bedrooms</th>\n",
       "      <th>population</th>\n",
       "      <th>households</th>\n",
       "      <th>median_income</th>\n",
       "      <th>median_house_value</th>\n",
       "      <th>ocean_proximity</th>\n",
       "    </tr>\n",
       "  </thead>\n",
       "  <tbody>\n",
       "    <tr>\n",
       "      <th>0</th>\n",
       "      <td>-122.23</td>\n",
       "      <td>37.88</td>\n",
       "      <td>41.0</td>\n",
       "      <td>880.0</td>\n",
       "      <td>129.0</td>\n",
       "      <td>322.0</td>\n",
       "      <td>126.0</td>\n",
       "      <td>8.3252</td>\n",
       "      <td>452600.0</td>\n",
       "      <td>NEAR BAY</td>\n",
       "    </tr>\n",
       "    <tr>\n",
       "      <th>1</th>\n",
       "      <td>-122.22</td>\n",
       "      <td>37.86</td>\n",
       "      <td>21.0</td>\n",
       "      <td>7099.0</td>\n",
       "      <td>1106.0</td>\n",
       "      <td>2401.0</td>\n",
       "      <td>1138.0</td>\n",
       "      <td>8.3014</td>\n",
       "      <td>358500.0</td>\n",
       "      <td>NEAR BAY</td>\n",
       "    </tr>\n",
       "    <tr>\n",
       "      <th>2</th>\n",
       "      <td>-122.24</td>\n",
       "      <td>37.85</td>\n",
       "      <td>52.0</td>\n",
       "      <td>1467.0</td>\n",
       "      <td>190.0</td>\n",
       "      <td>496.0</td>\n",
       "      <td>177.0</td>\n",
       "      <td>7.2574</td>\n",
       "      <td>352100.0</td>\n",
       "      <td>NEAR BAY</td>\n",
       "    </tr>\n",
       "    <tr>\n",
       "      <th>3</th>\n",
       "      <td>-122.25</td>\n",
       "      <td>37.85</td>\n",
       "      <td>52.0</td>\n",
       "      <td>1274.0</td>\n",
       "      <td>235.0</td>\n",
       "      <td>558.0</td>\n",
       "      <td>219.0</td>\n",
       "      <td>5.6431</td>\n",
       "      <td>341300.0</td>\n",
       "      <td>NEAR BAY</td>\n",
       "    </tr>\n",
       "    <tr>\n",
       "      <th>4</th>\n",
       "      <td>-122.25</td>\n",
       "      <td>37.85</td>\n",
       "      <td>52.0</td>\n",
       "      <td>1627.0</td>\n",
       "      <td>280.0</td>\n",
       "      <td>565.0</td>\n",
       "      <td>259.0</td>\n",
       "      <td>3.8462</td>\n",
       "      <td>342200.0</td>\n",
       "      <td>NEAR BAY</td>\n",
       "    </tr>\n",
       "  </tbody>\n",
       "</table>\n",
       "</div>"
      ],
      "text/plain": [
       "   longitude  latitude  housing_median_age  total_rooms  total_bedrooms  \\\n",
       "0    -122.23     37.88                41.0        880.0           129.0   \n",
       "1    -122.22     37.86                21.0       7099.0          1106.0   \n",
       "2    -122.24     37.85                52.0       1467.0           190.0   \n",
       "3    -122.25     37.85                52.0       1274.0           235.0   \n",
       "4    -122.25     37.85                52.0       1627.0           280.0   \n",
       "\n",
       "   population  households  median_income  median_house_value ocean_proximity  \n",
       "0       322.0       126.0         8.3252            452600.0        NEAR BAY  \n",
       "1      2401.0      1138.0         8.3014            358500.0        NEAR BAY  \n",
       "2       496.0       177.0         7.2574            352100.0        NEAR BAY  \n",
       "3       558.0       219.0         5.6431            341300.0        NEAR BAY  \n",
       "4       565.0       259.0         3.8462            342200.0        NEAR BAY  "
      ]
     },
     "execution_count": 34,
     "metadata": {},
     "output_type": "execute_result"
    }
   ],
   "source": [
    "import pandas as pd\n",
    "import numpy as np\n",
    "import matplotlib.pyplot as plt\n",
    "import seaborn as sns\n",
    "%matplotlib inline\n",
    "import warnings\n",
    "\n",
    "warnings.filterwarnings('ignore')\n",
    "warnings.simplefilter(action='ignore', category=UserWarning)\n",
    "warnings.simplefilter(action='ignore', category=FutureWarning)\n",
    "pd.options.mode.chained_assignment = None\n",
    "\n",
    "data = pd.read_csv('dataset/California Housing Dataset.csv')\n",
    "data.head()"
   ]
  },
  {
   "cell_type": "markdown",
   "id": "02b4ce2d",
   "metadata": {},
   "source": [
    "# 1. Data Inspection"
   ]
  },
  {
   "cell_type": "code",
   "execution_count": 35,
   "id": "65ca9344",
   "metadata": {},
   "outputs": [
    {
     "name": "stdout",
     "output_type": "stream",
     "text": [
      "<class 'pandas.core.frame.DataFrame'>\n",
      "RangeIndex: 20640 entries, 0 to 20639\n",
      "Data columns (total 10 columns):\n",
      " #   Column              Non-Null Count  Dtype  \n",
      "---  ------              --------------  -----  \n",
      " 0   longitude           20640 non-null  float64\n",
      " 1   latitude            20640 non-null  float64\n",
      " 2   housing_median_age  20640 non-null  float64\n",
      " 3   total_rooms         20640 non-null  float64\n",
      " 4   total_bedrooms      20433 non-null  float64\n",
      " 5   population          20640 non-null  float64\n",
      " 6   households          20640 non-null  float64\n",
      " 7   median_income       20640 non-null  float64\n",
      " 8   median_house_value  20640 non-null  float64\n",
      " 9   ocean_proximity     20640 non-null  object \n",
      "dtypes: float64(9), object(1)\n",
      "memory usage: 1.6+ MB\n"
     ]
    }
   ],
   "source": [
    "data.info()\n",
    "\n",
    "# total_bedrooms has null rows"
   ]
  },
  {
   "cell_type": "code",
   "execution_count": 36,
   "id": "ded116fe",
   "metadata": {},
   "outputs": [
    {
     "data": {
      "text/plain": [
       "<1H OCEAN     9136\n",
       "INLAND        6551\n",
       "NEAR OCEAN    2658\n",
       "NEAR BAY      2290\n",
       "ISLAND           5\n",
       "Name: ocean_proximity, dtype: int64"
      ]
     },
     "execution_count": 36,
     "metadata": {},
     "output_type": "execute_result"
    }
   ],
   "source": [
    "data['ocean_proximity'].value_counts()\n",
    "\n",
    "# Majority of the houses are just 1 hour away from the ocean"
   ]
  },
  {
   "cell_type": "code",
   "execution_count": 37,
   "id": "f2c6c19d",
   "metadata": {},
   "outputs": [
    {
     "data": {
      "text/html": [
       "<div>\n",
       "<style scoped>\n",
       "    .dataframe tbody tr th:only-of-type {\n",
       "        vertical-align: middle;\n",
       "    }\n",
       "\n",
       "    .dataframe tbody tr th {\n",
       "        vertical-align: top;\n",
       "    }\n",
       "\n",
       "    .dataframe thead th {\n",
       "        text-align: right;\n",
       "    }\n",
       "</style>\n",
       "<table border=\"1\" class=\"dataframe\">\n",
       "  <thead>\n",
       "    <tr style=\"text-align: right;\">\n",
       "      <th></th>\n",
       "      <th>longitude</th>\n",
       "      <th>latitude</th>\n",
       "      <th>housing_median_age</th>\n",
       "      <th>total_rooms</th>\n",
       "      <th>total_bedrooms</th>\n",
       "      <th>population</th>\n",
       "      <th>households</th>\n",
       "      <th>median_income</th>\n",
       "      <th>median_house_value</th>\n",
       "    </tr>\n",
       "  </thead>\n",
       "  <tbody>\n",
       "    <tr>\n",
       "      <th>count</th>\n",
       "      <td>20640.000000</td>\n",
       "      <td>20640.000000</td>\n",
       "      <td>20640.000000</td>\n",
       "      <td>20640.000000</td>\n",
       "      <td>20433.000000</td>\n",
       "      <td>20640.000000</td>\n",
       "      <td>20640.000000</td>\n",
       "      <td>20640.000000</td>\n",
       "      <td>20640.000000</td>\n",
       "    </tr>\n",
       "    <tr>\n",
       "      <th>mean</th>\n",
       "      <td>-119.569704</td>\n",
       "      <td>35.631861</td>\n",
       "      <td>28.639486</td>\n",
       "      <td>2635.763081</td>\n",
       "      <td>537.870553</td>\n",
       "      <td>1425.476744</td>\n",
       "      <td>499.539680</td>\n",
       "      <td>3.870671</td>\n",
       "      <td>206855.816909</td>\n",
       "    </tr>\n",
       "    <tr>\n",
       "      <th>std</th>\n",
       "      <td>2.003532</td>\n",
       "      <td>2.135952</td>\n",
       "      <td>12.585558</td>\n",
       "      <td>2181.615252</td>\n",
       "      <td>421.385070</td>\n",
       "      <td>1132.462122</td>\n",
       "      <td>382.329753</td>\n",
       "      <td>1.899822</td>\n",
       "      <td>115395.615874</td>\n",
       "    </tr>\n",
       "    <tr>\n",
       "      <th>min</th>\n",
       "      <td>-124.350000</td>\n",
       "      <td>32.540000</td>\n",
       "      <td>1.000000</td>\n",
       "      <td>2.000000</td>\n",
       "      <td>1.000000</td>\n",
       "      <td>3.000000</td>\n",
       "      <td>1.000000</td>\n",
       "      <td>0.499900</td>\n",
       "      <td>14999.000000</td>\n",
       "    </tr>\n",
       "    <tr>\n",
       "      <th>25%</th>\n",
       "      <td>-121.800000</td>\n",
       "      <td>33.930000</td>\n",
       "      <td>18.000000</td>\n",
       "      <td>1447.750000</td>\n",
       "      <td>296.000000</td>\n",
       "      <td>787.000000</td>\n",
       "      <td>280.000000</td>\n",
       "      <td>2.563400</td>\n",
       "      <td>119600.000000</td>\n",
       "    </tr>\n",
       "    <tr>\n",
       "      <th>50%</th>\n",
       "      <td>-118.490000</td>\n",
       "      <td>34.260000</td>\n",
       "      <td>29.000000</td>\n",
       "      <td>2127.000000</td>\n",
       "      <td>435.000000</td>\n",
       "      <td>1166.000000</td>\n",
       "      <td>409.000000</td>\n",
       "      <td>3.534800</td>\n",
       "      <td>179700.000000</td>\n",
       "    </tr>\n",
       "    <tr>\n",
       "      <th>75%</th>\n",
       "      <td>-118.010000</td>\n",
       "      <td>37.710000</td>\n",
       "      <td>37.000000</td>\n",
       "      <td>3148.000000</td>\n",
       "      <td>647.000000</td>\n",
       "      <td>1725.000000</td>\n",
       "      <td>605.000000</td>\n",
       "      <td>4.743250</td>\n",
       "      <td>264725.000000</td>\n",
       "    </tr>\n",
       "    <tr>\n",
       "      <th>max</th>\n",
       "      <td>-114.310000</td>\n",
       "      <td>41.950000</td>\n",
       "      <td>52.000000</td>\n",
       "      <td>39320.000000</td>\n",
       "      <td>6445.000000</td>\n",
       "      <td>35682.000000</td>\n",
       "      <td>6082.000000</td>\n",
       "      <td>15.000100</td>\n",
       "      <td>500001.000000</td>\n",
       "    </tr>\n",
       "  </tbody>\n",
       "</table>\n",
       "</div>"
      ],
      "text/plain": [
       "          longitude      latitude  housing_median_age   total_rooms  \\\n",
       "count  20640.000000  20640.000000        20640.000000  20640.000000   \n",
       "mean    -119.569704     35.631861           28.639486   2635.763081   \n",
       "std        2.003532      2.135952           12.585558   2181.615252   \n",
       "min     -124.350000     32.540000            1.000000      2.000000   \n",
       "25%     -121.800000     33.930000           18.000000   1447.750000   \n",
       "50%     -118.490000     34.260000           29.000000   2127.000000   \n",
       "75%     -118.010000     37.710000           37.000000   3148.000000   \n",
       "max     -114.310000     41.950000           52.000000  39320.000000   \n",
       "\n",
       "       total_bedrooms    population    households  median_income  \\\n",
       "count    20433.000000  20640.000000  20640.000000   20640.000000   \n",
       "mean       537.870553   1425.476744    499.539680       3.870671   \n",
       "std        421.385070   1132.462122    382.329753       1.899822   \n",
       "min          1.000000      3.000000      1.000000       0.499900   \n",
       "25%        296.000000    787.000000    280.000000       2.563400   \n",
       "50%        435.000000   1166.000000    409.000000       3.534800   \n",
       "75%        647.000000   1725.000000    605.000000       4.743250   \n",
       "max       6445.000000  35682.000000   6082.000000      15.000100   \n",
       "\n",
       "       median_house_value  \n",
       "count        20640.000000  \n",
       "mean        206855.816909  \n",
       "std         115395.615874  \n",
       "min          14999.000000  \n",
       "25%         119600.000000  \n",
       "50%         179700.000000  \n",
       "75%         264725.000000  \n",
       "max         500001.000000  "
      ]
     },
     "execution_count": 37,
     "metadata": {},
     "output_type": "execute_result"
    }
   ],
   "source": [
    "data.describe()\n",
    "\n",
    "# Most houses are 28 years old"
   ]
  },
  {
   "cell_type": "markdown",
   "id": "aff0cdf5",
   "metadata": {},
   "source": [
    "# 2. Data Visualization"
   ]
  },
  {
   "cell_type": "markdown",
   "id": "c6ea9a4c",
   "metadata": {},
   "source": [
    "### See distribution of each feature"
   ]
  },
  {
   "cell_type": "code",
   "execution_count": 38,
   "id": "a5a19b2a",
   "metadata": {},
   "outputs": [
    {
     "data": {
      "text/plain": [
       "array([[<AxesSubplot:title={'center':'longitude'}>,\n",
       "        <AxesSubplot:title={'center':'latitude'}>,\n",
       "        <AxesSubplot:title={'center':'housing_median_age'}>],\n",
       "       [<AxesSubplot:title={'center':'total_rooms'}>,\n",
       "        <AxesSubplot:title={'center':'total_bedrooms'}>,\n",
       "        <AxesSubplot:title={'center':'population'}>],\n",
       "       [<AxesSubplot:title={'center':'households'}>,\n",
       "        <AxesSubplot:title={'center':'median_income'}>,\n",
       "        <AxesSubplot:title={'center':'median_house_value'}>]],\n",
       "      dtype=object)"
      ]
     },
     "execution_count": 38,
     "metadata": {},
     "output_type": "execute_result"
    },
    {
     "data": {
      "image/png": "[encoded data removed]",
      "text/plain": [
       "<Figure size 2000x1000 with 9 Axes>"
      ]
     },
     "metadata": {},
     "output_type": "display_data"
    }
   ],
   "source": [
    "visual = data.hist(bins=50, figsize=(20,10))\n",
    "visual\n",
    "\n",
    "# housing median age outliers of the 50 year mark\n",
    "# total_rooms, total_bedrooms, population, households, and median_income skewed to the right"
   ]
  },
  {
   "cell_type": "markdown",
   "id": "bcb9c878",
   "metadata": {},
   "source": [
    "### Normality test of \"median_income\""
   ]
  },
  {
   "cell_type": "code",
   "execution_count": 39,
   "id": "13ff1c76",
   "metadata": {},
   "outputs": [
    {
     "data": {
      "text/plain": [
       "<AxesSubplot:xlabel='median_income', ylabel='Count'>"
      ]
     },
     "execution_count": 39,
     "metadata": {},
     "output_type": "execute_result"
    },
    {
     "data": {
      "image/png": "[encoded data removed]",
      "text/plain": [
       "<Figure size 640x480 with 1 Axes>"
      ]
     },
     "metadata": {},
     "output_type": "display_data"
    }
   ],
   "source": [
    "sns.histplot(data['median_income'], kde=True)\n",
    "\n",
    "# In this case, we assume that the feature 'median_income' is relevant\n",
    "# We plotted it into a histogram to see the distribution"
   ]
  },
  {
   "cell_type": "code",
   "execution_count": 40,
   "id": "fdf17a07",
   "metadata": {},
   "outputs": [
    {
     "data": {
      "text/plain": [
       "skew        1.646657\n",
       "kurtosis    4.952524\n",
       "Name: median_income, dtype: float64"
      ]
     },
     "execution_count": 40,
     "metadata": {},
     "output_type": "execute_result"
    }
   ],
   "source": [
    "data['median_income'].agg(['skew', 'kurtosis']).transpose()\n",
    "\n",
    "# --- Skew insight\n",
    "# right-skewed distribution, tail on the right side is longer\n",
    "# >1 means it is highly skewed to the right\n",
    "# many small values with some large values as outliers\n",
    "\n",
    "# --- Kurtosis insight\n",
    "# normal distribution has kurtosis of 3 (mesokurtic)\n",
    "# however, median_income is leptokurtic (heavier tails, more extreme outliers)\n",
    "\n",
    "# --- Conclusion\n",
    "# this can be bad for regression and t-test as it assumes normality"
   ]
  },
  {
   "cell_type": "markdown",
   "id": "5b3e6c48",
   "metadata": {},
   "source": [
    "# Data Preprocessing"
   ]
  },
  {
   "cell_type": "markdown",
   "id": "8e0fe1ac",
   "metadata": {},
   "source": [
    "## Convert \"median_income\" to \"Income_categories\""
   ]
  },
  {
   "cell_type": "code",
   "execution_count": 41,
   "id": "1e0da131",
   "metadata": {},
   "outputs": [
    {
     "data": {
      "text/plain": [
       "0    5\n",
       "1    5\n",
       "2    5\n",
       "3    4\n",
       "4    3\n",
       "Name: Income_categories, dtype: category\n",
       "Categories (5, int64): [1 < 2 < 3 < 4 < 5]"
      ]
     },
     "execution_count": 41,
     "metadata": {},
     "output_type": "execute_result"
    }
   ],
   "source": [
    "data['Income_categories'] = pd.cut(data['median_income'], \n",
    "                                   bins=[0., 1.5, 3.0, 4.5, 6., np.inf], \n",
    "                                   labels=[1, 2, 3, 4, 5])\n",
    "data['Income_categories'].head()"
   ]
  },
  {
   "cell_type": "code",
   "execution_count": 42,
   "id": "e215f0ef",
   "metadata": {},
   "outputs": [
    {
     "data": {
      "text/plain": [
       "3    7236\n",
       "2    6581\n",
       "4    3639\n",
       "5    2362\n",
       "1     822\n",
       "Name: Income_categories, dtype: int64"
      ]
     },
     "execution_count": 42,
     "metadata": {},
     "output_type": "execute_result"
    }
   ],
   "source": [
    "data['Income_categories'].value_counts()"
   ]
  },
  {
   "cell_type": "code",
   "execution_count": 43,
   "id": "19a69582",
   "metadata": {},
   "outputs": [
    {
     "data": {
      "image/png": "[encoded data removed]",
      "text/plain": [
       "<Figure size 640x480 with 1 Axes>"
      ]
     },
     "metadata": {},
     "output_type": "display_data"
    }
   ],
   "source": [
    "sns.countplot(x='Income_categories', data=data, palette='spring')\n",
    "plt.show()\n",
    "\n",
    "# Category 3 as the most dominant Income Category"
   ]
  },
  {
   "cell_type": "markdown",
   "id": "fe2a3a17",
   "metadata": {},
   "source": [
    "# 3. Data Test"
   ]
  },
  {
   "cell_type": "markdown",
   "id": "674133b6",
   "metadata": {},
   "source": [
    "- In this test, we are trying to prove that splitting the data based on equal income categories on both train and test is the best representation for the full data."
   ]
  },
  {
   "cell_type": "markdown",
   "id": "ffc7882c",
   "metadata": {},
   "source": [
    "### Train / Test Split"
   ]
  },
  {
   "cell_type": "code",
   "execution_count": 44,
   "id": "cc1e3024",
   "metadata": {},
   "outputs": [],
   "source": [
    "from sklearn.model_selection import train_test_split\n",
    "\n",
    "train_set, test_set = train_test_split(data, test_size=0.2, random_state=42)"
   ]
  },
  {
   "cell_type": "markdown",
   "id": "73a2aa11",
   "metadata": {},
   "source": [
    "### Stratified Shuffle Split"
   ]
  },
  {
   "cell_type": "code",
   "execution_count": 45,
   "id": "345b4755",
   "metadata": {},
   "outputs": [],
   "source": [
    "from sklearn.model_selection import StratifiedShuffleSplit\n",
    "\n",
    "split = StratifiedShuffleSplit(n_splits=1, test_size=0.2, random_state=42)\n",
    "for train_index, test_index in split.split(data, data['Income_categories']):\n",
    "    strat_train_set = data.loc[train_index]\n",
    "    strat_test_set = data.loc[test_index]"
   ]
  },
  {
   "cell_type": "markdown",
   "id": "1a27b8a2",
   "metadata": {},
   "source": [
    "## Stratified vs. Train / Test vs. Overall"
   ]
  },
  {
   "cell_type": "code",
   "execution_count": 46,
   "id": "f2dfb326",
   "metadata": {},
   "outputs": [
    {
     "data": {
      "text/plain": [
       "3    0.350533\n",
       "2    0.318798\n",
       "4    0.176357\n",
       "5    0.114341\n",
       "1    0.039971\n",
       "Name: Income_categories, dtype: float64"
      ]
     },
     "execution_count": 46,
     "metadata": {},
     "output_type": "execute_result"
    }
   ],
   "source": [
    "stratified = strat_test_set['Income_categories'].value_counts() / len(strat_test_set)\n",
    "stratified"
   ]
  },
  {
   "cell_type": "code",
   "execution_count": 47,
   "id": "ee38c2be",
   "metadata": {},
   "outputs": [
    {
     "data": {
      "text/plain": [
       "3    0.350581\n",
       "2    0.318847\n",
       "4    0.176308\n",
       "5    0.114438\n",
       "1    0.039826\n",
       "Name: Income_categories, dtype: float64"
      ]
     },
     "execution_count": 47,
     "metadata": {},
     "output_type": "execute_result"
    }
   ],
   "source": [
    "Overall = data['Income_categories'].value_counts() / len(data)\n",
    "Overall"
   ]
  },
  {
   "cell_type": "code",
   "execution_count": 48,
   "id": "7dbe48b3",
   "metadata": {},
   "outputs": [
    {
     "data": {
      "text/plain": [
       "3    0.358527\n",
       "2    0.324370\n",
       "4    0.167393\n",
       "5    0.109496\n",
       "1    0.040213\n",
       "Name: Income_categories, dtype: float64"
      ]
     },
     "execution_count": 48,
     "metadata": {},
     "output_type": "execute_result"
    }
   ],
   "source": [
    "Random = test_set['Income_categories'].value_counts() / len(test_set)\n",
    "Random"
   ]
  },
  {
   "cell_type": "code",
   "execution_count": 49,
   "id": "0274ec0a",
   "metadata": {},
   "outputs": [
    {
     "data": {
      "text/html": [
       "<div>\n",
       "<style scoped>\n",
       "    .dataframe tbody tr th:only-of-type {\n",
       "        vertical-align: middle;\n",
       "    }\n",
       "\n",
       "    .dataframe tbody tr th {\n",
       "        vertical-align: top;\n",
       "    }\n",
       "\n",
       "    .dataframe thead th {\n",
       "        text-align: right;\n",
       "    }\n",
       "</style>\n",
       "<table border=\"1\" class=\"dataframe\">\n",
       "  <thead>\n",
       "    <tr style=\"text-align: right;\">\n",
       "      <th></th>\n",
       "      <th>index</th>\n",
       "      <th>Overall</th>\n",
       "      <th>Stratified</th>\n",
       "      <th>Random</th>\n",
       "      <th>Stratified % Error</th>\n",
       "      <th>Random % Error</th>\n",
       "    </tr>\n",
       "  </thead>\n",
       "  <tbody>\n",
       "    <tr>\n",
       "      <th>0</th>\n",
       "      <td>1</td>\n",
       "      <td>0.039826</td>\n",
       "      <td>0.039971</td>\n",
       "      <td>0.040213</td>\n",
       "      <td>0.364964</td>\n",
       "      <td>0.973236</td>\n",
       "    </tr>\n",
       "    <tr>\n",
       "      <th>1</th>\n",
       "      <td>2</td>\n",
       "      <td>0.318847</td>\n",
       "      <td>0.318798</td>\n",
       "      <td>0.324370</td>\n",
       "      <td>-0.015195</td>\n",
       "      <td>1.732260</td>\n",
       "    </tr>\n",
       "    <tr>\n",
       "      <th>2</th>\n",
       "      <td>3</td>\n",
       "      <td>0.350581</td>\n",
       "      <td>0.350533</td>\n",
       "      <td>0.358527</td>\n",
       "      <td>-0.013820</td>\n",
       "      <td>2.266446</td>\n",
       "    </tr>\n",
       "    <tr>\n",
       "      <th>3</th>\n",
       "      <td>4</td>\n",
       "      <td>0.176308</td>\n",
       "      <td>0.176357</td>\n",
       "      <td>0.167393</td>\n",
       "      <td>0.027480</td>\n",
       "      <td>-5.056334</td>\n",
       "    </tr>\n",
       "    <tr>\n",
       "      <th>4</th>\n",
       "      <td>5</td>\n",
       "      <td>0.114438</td>\n",
       "      <td>0.114341</td>\n",
       "      <td>0.109496</td>\n",
       "      <td>-0.084674</td>\n",
       "      <td>-4.318374</td>\n",
       "    </tr>\n",
       "  </tbody>\n",
       "</table>\n",
       "</div>"
      ],
      "text/plain": [
       "  index   Overall  Stratified    Random  Stratified % Error  Random % Error\n",
       "0     1  0.039826    0.039971  0.040213            0.364964        0.973236\n",
       "1     2  0.318847    0.318798  0.324370           -0.015195        1.732260\n",
       "2     3  0.350581    0.350533  0.358527           -0.013820        2.266446\n",
       "3     4  0.176308    0.176357  0.167393            0.027480       -5.056334\n",
       "4     5  0.114438    0.114341  0.109496           -0.084674       -4.318374"
      ]
     },
     "execution_count": 49,
     "metadata": {},
     "output_type": "execute_result"
    }
   ],
   "source": [
    "Comparison = pd.DataFrame({'Overall' : Overall, 'Stratified' : stratified, 'Random': Random}).sort_index()\n",
    "Comparison['Stratified % Error'] = (100*Comparison['Stratified'] / Comparison['Overall']) - 100\n",
    "Comparison['Random % Error'] = (100*Comparison['Random'] / Comparison['Overall']) - 100\n",
    "Comparison.reset_index()"
   ]
  },
  {
   "cell_type": "markdown",
   "id": "b9eb2991",
   "metadata": {},
   "source": [
    "Notice that when we use stratified split, the division of median_income values is almost the same with the overall data. We want to split the dataset in a way that median_income values are equally divided. Thus, we will use the Stratified Shuffle Split data."
   ]
  },
  {
   "cell_type": "code",
   "execution_count": 50,
   "id": "17ecb206",
   "metadata": {},
   "outputs": [],
   "source": [
    "for set_ in (strat_train_set, strat_test_set):\n",
    "    set_.drop(\"Income_categories\", axis=1, inplace=True)"
   ]
  },
  {
   "cell_type": "markdown",
   "id": "f3eafdd8",
   "metadata": {},
   "source": [
    "# 4. Correlation"
   ]
  },
  {
   "cell_type": "code",
   "execution_count": 51,
   "id": "62dd0173",
   "metadata": {},
   "outputs": [
    {
     "data": {
      "text/plain": [
       "median_house_value    1.000000\n",
       "median_income         0.687151\n",
       "total_rooms           0.135140\n",
       "housing_median_age    0.114146\n",
       "households            0.064590\n",
       "total_bedrooms        0.047781\n",
       "population           -0.026882\n",
       "longitude            -0.047466\n",
       "latitude             -0.142673\n",
       "Name: median_house_value, dtype: float64"
      ]
     },
     "execution_count": 51,
     "metadata": {},
     "output_type": "execute_result"
    }
   ],
   "source": [
    "strat_train_set_num = strat_train_set.copy().select_dtypes(include=['float', 'int'])\n",
    "corr_matrix = strat_train_set_num.corr()\n",
    "Strat_train_corr = corr_matrix['median_house_value'].sort_values(ascending=False)\n",
    "Strat_train_corr"
   ]
  },
  {
   "cell_type": "code",
   "execution_count": 52,
   "id": "6076c814",
   "metadata": {},
   "outputs": [
    {
     "data": {
      "text/plain": [
       "<AxesSubplot:>"
      ]
     },
     "execution_count": 52,
     "metadata": {},
     "output_type": "execute_result"
    },
    {
     "data": {
      "image/png": "[encoded data removed]",
      "text/plain": [
       "<Figure size 1500x800 with 2 Axes>"
      ]
     },
     "metadata": {},
     "output_type": "display_data"
    }
   ],
   "source": [
    "plt.figure(figsize=(15,8))\n",
    "sns.heatmap(strat_train_set_num.corr(),annot=True,cmap=\"RdYlGn\")"
   ]
  },
  {
   "cell_type": "markdown",
   "id": "c4a7de2c",
   "metadata": {},
   "source": [
    "We select features with relatively decent correlation with our label (median_house_value). This features are median_income, total_rooms, and housing_median_age"
   ]
  },
  {
   "cell_type": "markdown",
   "id": "468f5d0f",
   "metadata": {},
   "source": [
    "# 5. Get continuous features"
   ]
  },
  {
   "cell_type": "code",
   "execution_count": 53,
   "id": "f2c7f8f8",
   "metadata": {},
   "outputs": [
    {
     "data": {
      "text/plain": [
       "Index(['longitude', 'latitude', 'housing_median_age', 'total_rooms',\n",
       "       'total_bedrooms', 'population', 'households', 'median_income'],\n",
       "      dtype='object')"
      ]
     },
     "execution_count": 53,
     "metadata": {},
     "output_type": "execute_result"
    }
   ],
   "source": [
    "strat_train_set_num = strat_train_set.select_dtypes(include = ['int', 'float64'])\n",
    "strat_train_set_num = strat_train_set_num.drop('median_house_value', axis=1)\n",
    "strat_train_set_num.columns # to select median_income, total_rooms, and housing_median_age"
   ]
  },
  {
   "cell_type": "markdown",
   "id": "c58868c1",
   "metadata": {},
   "source": [
    "## 5.1 Data Imputation"
   ]
  },
  {
   "cell_type": "markdown",
   "id": "652200be",
   "metadata": {},
   "source": [
    "- We use .fit() for our imputer to learn the parameters of the strat_train_set_num -> so that we can save our imputer as a model. Moreover, we use tranform() to \"impute\" our strat_train_set_num -> used to apply learned parameters on unseen data (data not in training data). We use fit_transform() during training to save a step (it's the same as using fit() and transform() separately)"
   ]
  },
  {
   "cell_type": "code",
   "execution_count": 54,
   "id": "7a8b940f",
   "metadata": {},
   "outputs": [],
   "source": [
    "from sklearn.impute import SimpleImputer\n",
    "\n",
    "imputer = SimpleImputer(strategy = \"median\")"
   ]
  },
  {
   "cell_type": "code",
   "execution_count": 55,
   "id": "e5860484",
   "metadata": {},
   "outputs": [
    {
     "data": {
      "text/plain": [
       "SimpleImputer(strategy='median')"
      ]
     },
     "execution_count": 55,
     "metadata": {},
     "output_type": "execute_result"
    }
   ],
   "source": [
    "imputer.fit(strat_train_set_num)"
   ]
  },
  {
   "cell_type": "code",
   "execution_count": 56,
   "id": "0a26cdb3",
   "metadata": {},
   "outputs": [
    {
     "data": {
      "text/plain": [
       "array([[-1.2146e+02,  3.8520e+01,  2.9000e+01, ...,  2.2370e+03,\n",
       "         7.0600e+02,  2.1736e+00],\n",
       "       [-1.1723e+02,  3.3090e+01,  7.0000e+00, ...,  2.0150e+03,\n",
       "         7.6800e+02,  6.3373e+00],\n",
       "       [-1.1904e+02,  3.5370e+01,  4.4000e+01, ...,  6.6700e+02,\n",
       "         3.0000e+02,  2.8750e+00],\n",
       "       ...,\n",
       "       [-1.2272e+02,  3.8440e+01,  4.8000e+01, ...,  4.5800e+02,\n",
       "         1.7200e+02,  3.1797e+00],\n",
       "       [-1.2270e+02,  3.8310e+01,  1.4000e+01, ...,  1.2080e+03,\n",
       "         5.0100e+02,  4.1964e+00],\n",
       "       [-1.2214e+02,  3.9970e+01,  2.7000e+01, ...,  6.2500e+02,\n",
       "         1.9700e+02,  3.1319e+00]])"
      ]
     },
     "execution_count": 56,
     "metadata": {},
     "output_type": "execute_result"
    }
   ],
   "source": [
    "strat_train_set_imputed = imputer.transform(strat_train_set_num)\n",
    "strat_train_set_imputed"
   ]
  },
  {
   "cell_type": "code",
   "execution_count": 57,
   "id": "63b8aa5a",
   "metadata": {},
   "outputs": [
    {
     "data": {
      "text/plain": [
       "array([-118.51   ,   34.26   ,   29.     , 2119.     ,  433.     ,\n",
       "       1164.     ,  408.     ,    3.54155])"
      ]
     },
     "execution_count": 57,
     "metadata": {},
     "output_type": "execute_result"
    }
   ],
   "source": [
    "imputer.statistics_ # median of each column"
   ]
  },
  {
   "cell_type": "code",
   "execution_count": 58,
   "id": "0ffcb26f",
   "metadata": {},
   "outputs": [],
   "source": [
    "import pickle as pkl\n",
    "import os\n",
    "\n",
    "with open(os.path.join(\"models\", \"num_features_imputer.pkl\"), 'wb') as f:\n",
    "    pkl.dump(imputer, f)"
   ]
  },
  {
   "cell_type": "code",
   "execution_count": 59,
   "id": "e182d3a7",
   "metadata": {},
   "outputs": [
    {
     "name": "stdout",
     "output_type": "stream",
     "text": [
      "<class 'pandas.core.frame.DataFrame'>\n",
      "Int64Index: 16512 entries, 12655 to 19773\n",
      "Data columns (total 8 columns):\n",
      " #   Column              Non-Null Count  Dtype  \n",
      "---  ------              --------------  -----  \n",
      " 0   longitude           16512 non-null  float64\n",
      " 1   latitude            16512 non-null  float64\n",
      " 2   housing_median_age  16512 non-null  float64\n",
      " 3   total_rooms         16512 non-null  float64\n",
      " 4   total_bedrooms      16512 non-null  float64\n",
      " 5   population          16512 non-null  float64\n",
      " 6   households          16512 non-null  float64\n",
      " 7   median_income       16512 non-null  float64\n",
      "dtypes: float64(8)\n",
      "memory usage: 1.1 MB\n"
     ]
    }
   ],
   "source": [
    "strat_train_set_imputed = pd.DataFrame(strat_train_set_imputed, \n",
    "                  columns = list(strat_train_set_num.columns), \n",
    "                  index = list(strat_train_set_num.index))\n",
    "\n",
    "strat_train_set_imputed.info() # 8 numerical features + 1 numerical label (\"median_house_value\")"
   ]
  },
  {
   "cell_type": "markdown",
   "id": "c5fe6122",
   "metadata": {},
   "source": [
    "## 5.2 Feature Scaling"
   ]
  },
  {
   "cell_type": "code",
   "execution_count": 60,
   "id": "b56d28f4",
   "metadata": {},
   "outputs": [],
   "source": [
    "from sklearn.preprocessing import StandardScaler\n",
    "\n",
    "std_scaler = StandardScaler()"
   ]
  },
  {
   "cell_type": "code",
   "execution_count": 61,
   "id": "ba9c9771",
   "metadata": {},
   "outputs": [
    {
     "data": {
      "text/plain": [
       "StandardScaler()"
      ]
     },
     "execution_count": 61,
     "metadata": {},
     "output_type": "execute_result"
    }
   ],
   "source": [
    "std_scaler.fit(strat_train_set_imputed)"
   ]
  },
  {
   "cell_type": "code",
   "execution_count": 62,
   "id": "855388c0",
   "metadata": {},
   "outputs": [
    {
     "data": {
      "text/plain": [
       "array([[-0.94135046,  1.34743822,  0.02756357, ...,  0.73260236,\n",
       "         0.55628602, -0.8936472 ],\n",
       "       [ 1.17178212, -1.19243966, -1.72201763, ...,  0.53361152,\n",
       "         0.72131799,  1.292168  ],\n",
       "       [ 0.26758118, -0.1259716 ,  1.22045984, ..., -0.67467519,\n",
       "        -0.52440722, -0.52543365],\n",
       "       ...,\n",
       "       [-1.5707942 ,  1.31001828,  1.53856552, ..., -0.86201341,\n",
       "        -0.86511838, -0.36547546],\n",
       "       [-1.56080303,  1.2492109 , -1.1653327 , ..., -0.18974707,\n",
       "         0.01061579,  0.16826095],\n",
       "       [-1.28105026,  2.02567448, -0.13148926, ..., -0.71232211,\n",
       "        -0.79857323, -0.390569  ]])"
      ]
     },
     "execution_count": 62,
     "metadata": {},
     "output_type": "execute_result"
    }
   ],
   "source": [
    "strat_train_set_imputed_scaled = std_scaler.fit_transform(strat_train_set_imputed)\n",
    "strat_train_set_imputed_scaled"
   ]
  },
  {
   "cell_type": "code",
   "execution_count": 63,
   "id": "247892f5",
   "metadata": {},
   "outputs": [],
   "source": [
    "import pickle as pkl\n",
    "import os\n",
    "\n",
    "with open(os.path.join(\"models\", \"num_features_scaler.pkl\"), 'wb') as f:\n",
    "    pkl.dump(std_scaler, f)"
   ]
  },
  {
   "cell_type": "markdown",
   "id": "4bc56f6b",
   "metadata": {},
   "source": [
    "# 6. Get categorical features"
   ]
  },
  {
   "cell_type": "code",
   "execution_count": 64,
   "id": "1f17e896",
   "metadata": {},
   "outputs": [
    {
     "data": {
      "text/html": [
       "<div>\n",
       "<style scoped>\n",
       "    .dataframe tbody tr th:only-of-type {\n",
       "        vertical-align: middle;\n",
       "    }\n",
       "\n",
       "    .dataframe tbody tr th {\n",
       "        vertical-align: top;\n",
       "    }\n",
       "\n",
       "    .dataframe thead th {\n",
       "        text-align: right;\n",
       "    }\n",
       "</style>\n",
       "<table border=\"1\" class=\"dataframe\">\n",
       "  <thead>\n",
       "    <tr style=\"text-align: right;\">\n",
       "      <th></th>\n",
       "      <th>ocean_proximity</th>\n",
       "    </tr>\n",
       "  </thead>\n",
       "  <tbody>\n",
       "    <tr>\n",
       "      <th>12655</th>\n",
       "      <td>INLAND</td>\n",
       "    </tr>\n",
       "    <tr>\n",
       "      <th>15502</th>\n",
       "      <td>NEAR OCEAN</td>\n",
       "    </tr>\n",
       "    <tr>\n",
       "      <th>2908</th>\n",
       "      <td>INLAND</td>\n",
       "    </tr>\n",
       "    <tr>\n",
       "      <th>14053</th>\n",
       "      <td>NEAR OCEAN</td>\n",
       "    </tr>\n",
       "    <tr>\n",
       "      <th>20496</th>\n",
       "      <td>&lt;1H OCEAN</td>\n",
       "    </tr>\n",
       "    <tr>\n",
       "      <th>...</th>\n",
       "      <td>...</td>\n",
       "    </tr>\n",
       "    <tr>\n",
       "      <th>15174</th>\n",
       "      <td>&lt;1H OCEAN</td>\n",
       "    </tr>\n",
       "    <tr>\n",
       "      <th>12661</th>\n",
       "      <td>INLAND</td>\n",
       "    </tr>\n",
       "    <tr>\n",
       "      <th>19263</th>\n",
       "      <td>&lt;1H OCEAN</td>\n",
       "    </tr>\n",
       "    <tr>\n",
       "      <th>19140</th>\n",
       "      <td>&lt;1H OCEAN</td>\n",
       "    </tr>\n",
       "    <tr>\n",
       "      <th>19773</th>\n",
       "      <td>INLAND</td>\n",
       "    </tr>\n",
       "  </tbody>\n",
       "</table>\n",
       "<p>16512 rows × 1 columns</p>\n",
       "</div>"
      ],
      "text/plain": [
       "      ocean_proximity\n",
       "12655          INLAND\n",
       "15502      NEAR OCEAN\n",
       "2908           INLAND\n",
       "14053      NEAR OCEAN\n",
       "20496       <1H OCEAN\n",
       "...               ...\n",
       "15174       <1H OCEAN\n",
       "12661          INLAND\n",
       "19263       <1H OCEAN\n",
       "19140       <1H OCEAN\n",
       "19773          INLAND\n",
       "\n",
       "[16512 rows x 1 columns]"
      ]
     },
     "execution_count": 64,
     "metadata": {},
     "output_type": "execute_result"
    }
   ],
   "source": [
    "strat_train_cat = strat_train_set.copy().select_dtypes(include=['O'])\n",
    "strat_train_cat"
   ]
  },
  {
   "cell_type": "markdown",
   "id": "a56684e2",
   "metadata": {},
   "source": [
    "## 6.1 Feature Encoding"
   ]
  },
  {
   "cell_type": "code",
   "execution_count": 65,
   "id": "ffd3a173",
   "metadata": {},
   "outputs": [],
   "source": [
    "from sklearn.preprocessing import OrdinalEncoder\n",
    "\n",
    "ordinal_encoder = OrdinalEncoder()"
   ]
  },
  {
   "cell_type": "code",
   "execution_count": 66,
   "id": "5c3eb35a",
   "metadata": {},
   "outputs": [
    {
     "data": {
      "text/plain": [
       "OrdinalEncoder()"
      ]
     },
     "execution_count": 66,
     "metadata": {},
     "output_type": "execute_result"
    }
   ],
   "source": [
    "ordinal_encoder.fit(strat_train_cat)"
   ]
  },
  {
   "cell_type": "code",
   "execution_count": 67,
   "id": "276d33b9",
   "metadata": {},
   "outputs": [
    {
     "data": {
      "text/plain": [
       "array([[1.],\n",
       "       [4.],\n",
       "       [1.],\n",
       "       ...,\n",
       "       [0.],\n",
       "       [0.],\n",
       "       [1.]])"
      ]
     },
     "execution_count": 67,
     "metadata": {},
     "output_type": "execute_result"
    }
   ],
   "source": [
    "strat_train_cat_ordinal_encoded = ordinal_encoder.fit_transform(strat_train_cat)\n",
    "strat_train_cat_ordinal_encoded"
   ]
  },
  {
   "cell_type": "code",
   "execution_count": 68,
   "id": "e45831b9",
   "metadata": {},
   "outputs": [],
   "source": [
    "import pickle as pkl\n",
    "import os\n",
    "\n",
    "with open(os.path.join(\"models\", \"ordinal_encoder.pkl\"), 'wb') as f:\n",
    "    pkl.dump(ordinal_encoder, f)"
   ]
  },
  {
   "cell_type": "code",
   "execution_count": 69,
   "id": "bd209072",
   "metadata": {},
   "outputs": [],
   "source": [
    "from sklearn.preprocessing import OneHotEncoder\n",
    "\n",
    "onehot_encoder = OneHotEncoder()"
   ]
  },
  {
   "cell_type": "code",
   "execution_count": 70,
   "id": "3f67a51c",
   "metadata": {},
   "outputs": [
    {
     "data": {
      "text/plain": [
       "array([[0., 1., 0., 0., 0.],\n",
       "       [0., 0., 0., 0., 1.],\n",
       "       [0., 1., 0., 0., 0.],\n",
       "       ...,\n",
       "       [1., 0., 0., 0., 0.],\n",
       "       [1., 0., 0., 0., 0.],\n",
       "       [0., 1., 0., 0., 0.]])"
      ]
     },
     "execution_count": 70,
     "metadata": {},
     "output_type": "execute_result"
    }
   ],
   "source": [
    "strat_train_cat_onehot_encoded = onehot_encoder.fit_transform(strat_train_cat)\n",
    "strat_train_cat_onehot_encoded.toarray()"
   ]
  },
  {
   "cell_type": "markdown",
   "id": "bc05dd00",
   "metadata": {},
   "source": [
    "# 7. Concat continuous and categorical features"
   ]
  },
  {
   "cell_type": "markdown",
   "id": "c3c02719",
   "metadata": {},
   "source": [
    "## 7.1 on Ordinal Encoded"
   ]
  },
  {
   "cell_type": "code",
   "execution_count": 71,
   "id": "0631dfb4",
   "metadata": {},
   "outputs": [
    {
     "data": {
      "text/plain": [
       "array([[-0.94135046,  1.34743822,  0.02756357, ...,  0.55628602,\n",
       "        -0.8936472 ,  1.        ],\n",
       "       [ 1.17178212, -1.19243966, -1.72201763, ...,  0.72131799,\n",
       "         1.292168  ,  4.        ],\n",
       "       [ 0.26758118, -0.1259716 ,  1.22045984, ..., -0.52440722,\n",
       "        -0.52543365,  1.        ],\n",
       "       ...,\n",
       "       [-1.5707942 ,  1.31001828,  1.53856552, ..., -0.86511838,\n",
       "        -0.36547546,  0.        ],\n",
       "       [-1.56080303,  1.2492109 , -1.1653327 , ...,  0.01061579,\n",
       "         0.16826095,  0.        ],\n",
       "       [-1.28105026,  2.02567448, -0.13148926, ..., -0.79857323,\n",
       "        -0.390569  ,  1.        ]])"
      ]
     },
     "execution_count": 71,
     "metadata": {},
     "output_type": "execute_result"
    }
   ],
   "source": [
    "final_train_ordinal = np.concatenate((strat_train_set_imputed_scaled, strat_train_cat_ordinal_encoded), axis=1)\n",
    "final_train_ordinal"
   ]
  },
  {
   "cell_type": "code",
   "execution_count": 72,
   "id": "05ee7f7d",
   "metadata": {},
   "outputs": [
    {
     "data": {
      "text/plain": [
       "(16512, 9)"
      ]
     },
     "execution_count": 72,
     "metadata": {},
     "output_type": "execute_result"
    }
   ],
   "source": [
    "final_train_ordinal.shape # 8 numerical features + \n",
    "                          # 1 numerical label + \n",
    "                          # 1 categorical features (ordinal encoded)"
   ]
  },
  {
   "cell_type": "markdown",
   "id": "e6d5d086",
   "metadata": {},
   "source": [
    "## 7.2 on OneHot Encoded"
   ]
  },
  {
   "cell_type": "code",
   "execution_count": 73,
   "id": "93f6e874",
   "metadata": {},
   "outputs": [
    {
     "data": {
      "text/plain": [
       "array([[-0.94135046,  1.34743822,  0.02756357, ...,  0.        ,\n",
       "         0.        ,  0.        ],\n",
       "       [ 1.17178212, -1.19243966, -1.72201763, ...,  0.        ,\n",
       "         0.        ,  1.        ],\n",
       "       [ 0.26758118, -0.1259716 ,  1.22045984, ...,  0.        ,\n",
       "         0.        ,  0.        ],\n",
       "       ...,\n",
       "       [-1.5707942 ,  1.31001828,  1.53856552, ...,  0.        ,\n",
       "         0.        ,  0.        ],\n",
       "       [-1.56080303,  1.2492109 , -1.1653327 , ...,  0.        ,\n",
       "         0.        ,  0.        ],\n",
       "       [-1.28105026,  2.02567448, -0.13148926, ...,  0.        ,\n",
       "         0.        ,  0.        ]])"
      ]
     },
     "execution_count": 73,
     "metadata": {},
     "output_type": "execute_result"
    }
   ],
   "source": [
    "final_train_onehot = np.concatenate((strat_train_set_imputed_scaled, strat_train_cat_onehot_encoded.toarray()), \n",
    "                                    axis=1)\n",
    "final_train_onehot"
   ]
  },
  {
   "cell_type": "code",
   "execution_count": 74,
   "id": "b07cf494",
   "metadata": {},
   "outputs": [
    {
     "data": {
      "text/plain": [
       "(16512, 13)"
      ]
     },
     "execution_count": 74,
     "metadata": {},
     "output_type": "execute_result"
    }
   ],
   "source": [
    "final_train_onehot.shape # 8 numerical features +\n",
    "                         # 1 numerical label +\n",
    "                         # 1 categorical feature (one-hot encoded so it corresponds to 5 columns)"
   ]
  },
  {
   "cell_type": "code",
   "execution_count": 75,
   "id": "5506032d",
   "metadata": {},
   "outputs": [
    {
     "data": {
      "text/plain": [
       "12655     72100.0\n",
       "15502    279600.0\n",
       "2908      82700.0\n",
       "14053    112500.0\n",
       "20496    238300.0\n",
       "           ...   \n",
       "15174    268500.0\n",
       "12661     90400.0\n",
       "19263    140400.0\n",
       "19140    258100.0\n",
       "19773     62700.0\n",
       "Name: median_house_value, Length: 16512, dtype: float64"
      ]
     },
     "execution_count": 75,
     "metadata": {},
     "output_type": "execute_result"
    }
   ],
   "source": [
    "final_train_labels = strat_train_set.median_house_value.copy()\n",
    "final_train_labels"
   ]
  },
  {
   "cell_type": "code",
   "execution_count": 76,
   "id": "dcfab959",
   "metadata": {},
   "outputs": [
    {
     "data": {
      "text/plain": [
       "(16512,)"
      ]
     },
     "execution_count": 76,
     "metadata": {},
     "output_type": "execute_result"
    }
   ],
   "source": [
    "final_train_labels.shape"
   ]
  },
  {
   "cell_type": "markdown",
   "id": "6611e5d0",
   "metadata": {},
   "source": [
    "# 8. Model Training"
   ]
  },
  {
   "cell_type": "markdown",
   "id": "d0e39dad",
   "metadata": {},
   "source": [
    "## Linear Regression"
   ]
  },
  {
   "cell_type": "code",
   "execution_count": 77,
   "id": "f7333a31",
   "metadata": {},
   "outputs": [],
   "source": [
    "from sklearn.linear_model import LinearRegression\n",
    "\n",
    "lin_reg = LinearRegression()"
   ]
  },
  {
   "cell_type": "markdown",
   "id": "3377e665",
   "metadata": {},
   "source": [
    "### .fit()"
   ]
  },
  {
   "cell_type": "code",
   "execution_count": 78,
   "id": "1e9f4c3a",
   "metadata": {},
   "outputs": [
    {
     "data": {
      "text/plain": [
       "LinearRegression()"
      ]
     },
     "execution_count": 78,
     "metadata": {},
     "output_type": "execute_result"
    }
   ],
   "source": [
    "lin_reg.fit(final_train_ordinal, final_train_labels)"
   ]
  },
  {
   "cell_type": "markdown",
   "id": "0e02f904",
   "metadata": {},
   "source": [
    "### .predict()"
   ]
  },
  {
   "cell_type": "code",
   "execution_count": 79,
   "id": "57131348",
   "metadata": {},
   "outputs": [
    {
     "data": {
      "text/plain": [
       "array([ 95506.54304879, 293131.30910549, 176504.67019204, ...,\n",
       "       212483.12004643, 231561.70991248,  93751.73682221])"
      ]
     },
     "execution_count": 79,
     "metadata": {},
     "output_type": "execute_result"
    }
   ],
   "source": [
    "y_hat = lin_reg.predict(final_train_ordinal)\n",
    "y_hat"
   ]
  },
  {
   "cell_type": "markdown",
   "id": "13fb8835",
   "metadata": {},
   "source": [
    "### Evaluation Metrics - RMSE & MAE"
   ]
  },
  {
   "cell_type": "code",
   "execution_count": 80,
   "id": "d1e40897",
   "metadata": {},
   "outputs": [
    {
     "data": {
      "text/plain": [
       "69957.31159823203"
      ]
     },
     "execution_count": 80,
     "metadata": {},
     "output_type": "execute_result"
    }
   ],
   "source": [
    "from sklearn.metrics import mean_squared_error\n",
    "\n",
    "lin_mse = mean_squared_error(final_train_labels, y_hat)\n",
    "lin_rmse = np.sqrt(lin_mse)\n",
    "lin_rmse"
   ]
  },
  {
   "cell_type": "code",
   "execution_count": 81,
   "id": "ff7c43f5",
   "metadata": {},
   "outputs": [
    {
     "data": {
      "text/plain": [
       "50972.40125162178"
      ]
     },
     "execution_count": 81,
     "metadata": {},
     "output_type": "execute_result"
    }
   ],
   "source": [
    "from sklearn.metrics import mean_absolute_error\n",
    "\n",
    "lin_mae = mean_absolute_error(final_train_labels, y_hat)\n",
    "lin_mae"
   ]
  },
  {
   "cell_type": "markdown",
   "id": "e7c351cb",
   "metadata": {},
   "source": [
    "### Cross Validation - cross_val_score()"
   ]
  },
  {
   "cell_type": "code",
   "execution_count": 82,
   "id": "7c948684",
   "metadata": {},
   "outputs": [
    {
     "data": {
      "text/plain": [
       "array([73045.72331495, 66347.94516911, 68567.26786067, 70105.76844784,\n",
       "       67692.1343885 , 73757.82907155, 72083.1752024 , 70311.44913865,\n",
       "       67731.71715341, 71373.97679319])"
      ]
     },
     "execution_count": 82,
     "metadata": {},
     "output_type": "execute_result"
    }
   ],
   "source": [
    "from sklearn.model_selection import cross_val_score\n",
    "\n",
    "lin_scores = cross_val_score(lin_reg, final_train_ordinal, final_train_labels, \n",
    "                             scoring=\"neg_mean_squared_error\", cv=10)\n",
    "lin_rmse_scores = np.sqrt(-lin_scores)\n",
    "lin_rmse_scores"
   ]
  },
  {
   "cell_type": "code",
   "execution_count": 83,
   "id": "e623dd97",
   "metadata": {},
   "outputs": [
    {
     "name": "stdout",
     "output_type": "stream",
     "text": [
      "Mean: 70101.69865402688\n",
      "Standard deviation: 2355.6629424914795\n"
     ]
    }
   ],
   "source": [
    "print(\"Mean:\", lin_rmse_scores.mean())\n",
    "print(\"Standard deviation:\", lin_rmse_scores.std())"
   ]
  },
  {
   "cell_type": "markdown",
   "id": "57667a55",
   "metadata": {},
   "source": [
    "## Decision Tree"
   ]
  },
  {
   "cell_type": "code",
   "execution_count": 84,
   "id": "efb8ee86",
   "metadata": {},
   "outputs": [],
   "source": [
    "from sklearn.tree import DecisionTreeRegressor\n",
    "\n",
    "DecisionTree_reg = DecisionTreeRegressor(random_state=45)"
   ]
  },
  {
   "cell_type": "markdown",
   "id": "48ab380e",
   "metadata": {},
   "source": [
    "### .fit()"
   ]
  },
  {
   "cell_type": "code",
   "execution_count": 85,
   "id": "03b1c5b9",
   "metadata": {},
   "outputs": [
    {
     "data": {
      "text/plain": [
       "DecisionTreeRegressor(random_state=45)"
      ]
     },
     "execution_count": 85,
     "metadata": {},
     "output_type": "execute_result"
    }
   ],
   "source": [
    "DecisionTree_reg.fit(final_train_ordinal, final_train_labels)"
   ]
  },
  {
   "cell_type": "markdown",
   "id": "08c31522",
   "metadata": {},
   "source": [
    "### .predict()"
   ]
  },
  {
   "cell_type": "code",
   "execution_count": 86,
   "id": "8ba0f9e7",
   "metadata": {},
   "outputs": [
    {
     "data": {
      "text/plain": [
       "array([ 72100., 279600.,  82700., ..., 140400., 258100.,  62700.])"
      ]
     },
     "execution_count": 86,
     "metadata": {},
     "output_type": "execute_result"
    }
   ],
   "source": [
    "y_hat_DecisionTree = DecisionTree_reg.predict(final_train_ordinal)\n",
    "y_hat_DecisionTree"
   ]
  },
  {
   "cell_type": "markdown",
   "id": "6182441e",
   "metadata": {},
   "source": [
    "### Evaluation Metrics - RSME"
   ]
  },
  {
   "cell_type": "code",
   "execution_count": 87,
   "id": "89b4dab4",
   "metadata": {},
   "outputs": [
    {
     "data": {
      "text/plain": [
       "0.0"
      ]
     },
     "execution_count": 87,
     "metadata": {},
     "output_type": "execute_result"
    }
   ],
   "source": [
    "DecisionTree_reg_mse = mean_squared_error(final_train_labels, y_hat_DecisionTree)\n",
    "DecisionTree_reg_rmse = np.sqrt(DecisionTree_reg_mse)\n",
    "DecisionTree_reg_rmse"
   ]
  },
  {
   "cell_type": "markdown",
   "id": "5d19eb40",
   "metadata": {},
   "source": [
    "### Cross Validation - cross_val_score()"
   ]
  },
  {
   "cell_type": "code",
   "execution_count": 88,
   "id": "93c8ed6f",
   "metadata": {},
   "outputs": [
    {
     "data": {
      "text/plain": [
       "array([70095.82167048, 70772.32808663, 66312.08805495, 71016.56101148,\n",
       "       66318.85022746, 70622.40683549, 75134.83337705, 68439.86096409,\n",
       "       67895.98805065, 70040.13644205])"
      ]
     },
     "execution_count": 88,
     "metadata": {},
     "output_type": "execute_result"
    }
   ],
   "source": [
    "from sklearn.model_selection import cross_val_score\n",
    "\n",
    "scores = cross_val_score(DecisionTree_reg, final_train_ordinal, final_train_labels, \n",
    "                         scoring=\"neg_mean_squared_error\", cv=10)\n",
    "DecisionTree_reg_rmse_scores = np.sqrt(-scores)\n",
    "DecisionTree_reg_rmse_scores"
   ]
  },
  {
   "cell_type": "code",
   "execution_count": 89,
   "id": "5329b176",
   "metadata": {},
   "outputs": [
    {
     "name": "stdout",
     "output_type": "stream",
     "text": [
      "Mean: 69664.88747203352\n",
      "Standard deviation: 2475.56130931178\n"
     ]
    }
   ],
   "source": [
    "print(\"Mean:\", DecisionTree_reg_rmse_scores.mean())\n",
    "print(\"Standard deviation:\", DecisionTree_reg_rmse_scores.std())"
   ]
  },
  {
   "cell_type": "markdown",
   "id": "71a66307",
   "metadata": {},
   "source": [
    "## Random Forest"
   ]
  },
  {
   "cell_type": "code",
   "execution_count": 90,
   "id": "0c3d3c6a",
   "metadata": {},
   "outputs": [],
   "source": [
    "from sklearn.ensemble import RandomForestRegressor\n",
    "\n",
    "RandomForest_reg = RandomForestRegressor(n_estimators=100, random_state=45)"
   ]
  },
  {
   "cell_type": "markdown",
   "id": "003fb28d",
   "metadata": {},
   "source": [
    "### .fit()"
   ]
  },
  {
   "cell_type": "code",
   "execution_count": 91,
   "id": "10f85ccb",
   "metadata": {},
   "outputs": [
    {
     "data": {
      "text/plain": [
       "RandomForestRegressor(random_state=45)"
      ]
     },
     "execution_count": 91,
     "metadata": {},
     "output_type": "execute_result"
    }
   ],
   "source": [
    "RandomForest_reg.fit(final_train_ordinal, final_train_labels)"
   ]
  },
  {
   "cell_type": "markdown",
   "id": "9b2c43cb",
   "metadata": {},
   "source": [
    "### .predict()"
   ]
  },
  {
   "cell_type": "code",
   "execution_count": 92,
   "id": "23531641",
   "metadata": {},
   "outputs": [
    {
     "data": {
      "text/plain": [
       "array([ 75879.  , 308883.01,  78041.  , ..., 156934.  , 240670.  ,\n",
       "        77499.  ])"
      ]
     },
     "execution_count": 92,
     "metadata": {},
     "output_type": "execute_result"
    }
   ],
   "source": [
    "predictions_RandomForest_reg = RandomForest_reg.predict(final_train_ordinal)\n",
    "predictions_RandomForest_reg"
   ]
  },
  {
   "cell_type": "markdown",
   "id": "1e83a129",
   "metadata": {},
   "source": [
    "### Evaluation Metrics - RSME and MAE"
   ]
  },
  {
   "cell_type": "code",
   "execution_count": 93,
   "id": "23b47b33",
   "metadata": {},
   "outputs": [
    {
     "data": {
      "text/plain": [
       "18631.13858871076"
      ]
     },
     "execution_count": 93,
     "metadata": {},
     "output_type": "execute_result"
    }
   ],
   "source": [
    "RandomForest_reg_rmse = mean_squared_error(final_train_labels, predictions_RandomForest_reg, squared=False)\n",
    "RandomForest_reg_rmse"
   ]
  },
  {
   "cell_type": "code",
   "execution_count": 94,
   "id": "479790d7",
   "metadata": {},
   "outputs": [
    {
     "data": {
      "text/plain": [
       "11999.804146075581"
      ]
     },
     "execution_count": 94,
     "metadata": {},
     "output_type": "execute_result"
    }
   ],
   "source": [
    "RandomForest_reg_mae = mean_absolute_error(final_train_labels, predictions_RandomForest_reg)\n",
    "RandomForest_reg_mae"
   ]
  },
  {
   "cell_type": "code",
   "execution_count": 95,
   "id": "1730c2cb",
   "metadata": {},
   "outputs": [
    {
     "data": {
      "text/plain": [
       "array([51528.88175151, 48767.58921977, 47285.41970338, 51623.29867345,\n",
       "       47992.11929947, 50997.00403775, 52993.94827694, 49685.66580618,\n",
       "       47937.84058583, 53390.63632327])"
      ]
     },
     "execution_count": 95,
     "metadata": {},
     "output_type": "execute_result"
    }
   ],
   "source": [
    "from sklearn.model_selection import cross_val_score\n",
    "\n",
    "RandFor_scores = cross_val_score(RandomForest_reg, final_train_ordinal, final_train_labels, \n",
    "                                 scoring=\"neg_mean_squared_error\", cv=10)\n",
    "RandFor_rmse_scores = np.sqrt(-RandFor_scores)\n",
    "RandFor_rmse_scores"
   ]
  },
  {
   "cell_type": "code",
   "execution_count": 96,
   "id": "4a93c917",
   "metadata": {},
   "outputs": [
    {
     "name": "stdout",
     "output_type": "stream",
     "text": [
      "Mean: 50220.240367754224\n",
      "Standard deviation: 2078.758106919943\n"
     ]
    }
   ],
   "source": [
    "print(\"Mean:\", RandFor_rmse_scores.mean())\n",
    "print(\"Standard deviation:\", RandFor_rmse_scores.std())"
   ]
  },
  {
   "cell_type": "markdown",
   "id": "9a3e2aa8",
   "metadata": {},
   "source": [
    "## SVR"
   ]
  },
  {
   "cell_type": "code",
   "execution_count": 97,
   "id": "7799a8c8",
   "metadata": {},
   "outputs": [],
   "source": [
    "from sklearn.svm import SVR\n",
    "\n",
    "svm_reg = SVR(kernel=\"linear\")"
   ]
  },
  {
   "cell_type": "markdown",
   "id": "896e038f",
   "metadata": {},
   "source": [
    "### .fit()"
   ]
  },
  {
   "cell_type": "code",
   "execution_count": 98,
   "id": "5854796b",
   "metadata": {},
   "outputs": [
    {
     "data": {
      "text/plain": [
       "SVR(kernel='linear')"
      ]
     },
     "execution_count": 98,
     "metadata": {},
     "output_type": "execute_result"
    }
   ],
   "source": [
    "svm_reg.fit(final_train_ordinal, final_train_labels)"
   ]
  },
  {
   "cell_type": "markdown",
   "id": "76a5e7b6",
   "metadata": {},
   "source": [
    "### .predict()"
   ]
  },
  {
   "cell_type": "code",
   "execution_count": 99,
   "id": "4d3c2575",
   "metadata": {},
   "outputs": [
    {
     "data": {
      "text/plain": [
       "array([172782.12053534, 195373.0803988 , 176174.24898688, ...,\n",
       "       174651.31457115, 178861.15592373, 171511.46535084])"
      ]
     },
     "execution_count": 99,
     "metadata": {},
     "output_type": "execute_result"
    }
   ],
   "source": [
    "predictions_svm_reg = svm_reg.predict(final_train_ordinal)\n",
    "predictions_svm_reg"
   ]
  },
  {
   "cell_type": "code",
   "execution_count": 100,
   "id": "4202f6a7",
   "metadata": {},
   "outputs": [
    {
     "data": {
      "text/plain": [
       "112499.73102248111"
      ]
     },
     "execution_count": 100,
     "metadata": {},
     "output_type": "execute_result"
    }
   ],
   "source": [
    "svm_rmse = mean_squared_error(final_train_labels, predictions_svm_reg, squared=False)\n",
    "svm_rmse"
   ]
  },
  {
   "cell_type": "code",
   "execution_count": 101,
   "id": "dc68900c",
   "metadata": {},
   "outputs": [
    {
     "data": {
      "text/plain": [
       "array([111726.24983698, 114373.560143  , 108334.18856491, 114792.73717501,\n",
       "       109139.3093245 , 117235.55468043, 114498.31994349, 113112.12017499,\n",
       "       114463.59004667, 113293.63134089])"
      ]
     },
     "execution_count": 101,
     "metadata": {},
     "output_type": "execute_result"
    }
   ],
   "source": [
    "from sklearn.model_selection import cross_val_score\n",
    "\n",
    "svm_scores = cross_val_score(svm_reg, final_train_ordinal, final_train_labels, \n",
    "                             scoring=\"neg_mean_squared_error\", cv=10)\n",
    "svm_rmse_scores = np.sqrt(-svm_scores)\n",
    "svm_rmse_scores"
   ]
  },
  {
   "cell_type": "code",
   "execution_count": 102,
   "id": "b125f201",
   "metadata": {},
   "outputs": [
    {
     "name": "stdout",
     "output_type": "stream",
     "text": [
      "Mean: 113096.92612308581\n",
      "Standard deviation: 2563.7778346792807\n"
     ]
    }
   ],
   "source": [
    "print(\"Mean:\", svm_rmse_scores.mean())\n",
    "print(\"Standard deviation:\", svm_rmse_scores.std())"
   ]
  },
  {
   "cell_type": "markdown",
   "id": "defdeac4",
   "metadata": {},
   "source": [
    "# 9. Hyperparameter Tuning"
   ]
  },
  {
   "cell_type": "markdown",
   "id": "84889d24",
   "metadata": {},
   "source": [
    "### GridSearch"
   ]
  },
  {
   "cell_type": "markdown",
   "id": "05487571",
   "metadata": {},
   "source": [
    "#### parameter grid"
   ]
  },
  {
   "cell_type": "code",
   "execution_count": 103,
   "id": "beb15489",
   "metadata": {},
   "outputs": [],
   "source": [
    "from sklearn.model_selection import GridSearchCV\n",
    "\n",
    "param_grid = [\n",
    "    # try 12 (3×4) combinations of hyperparameters\n",
    "    {'n_estimators': [3, 10, 30], 'max_features': [2, 4, 6, 8]},\n",
    "    # then try 6 (2×3) combinations with bootstrap set as False\n",
    "    {'bootstrap': [False], 'n_estimators': [3, 10], 'max_features': [2, 3, 4]},\n",
    "  ]"
   ]
  },
  {
   "cell_type": "markdown",
   "id": "3d88bded",
   "metadata": {},
   "source": [
    "#### .fit()"
   ]
  },
  {
   "cell_type": "code",
   "execution_count": 104,
   "id": "f7a47b99",
   "metadata": {},
   "outputs": [
    {
     "data": {
      "text/plain": [
       "GridSearchCV(cv=5, estimator=RandomForestRegressor(random_state=45),\n",
       "             param_grid=[{'max_features': [2, 4, 6, 8],\n",
       "                          'n_estimators': [3, 10, 30]},\n",
       "                         {'bootstrap': [False], 'max_features': [2, 3, 4],\n",
       "                          'n_estimators': [3, 10]}],\n",
       "             return_train_score=True, scoring='neg_mean_squared_error')"
      ]
     },
     "execution_count": 104,
     "metadata": {},
     "output_type": "execute_result"
    }
   ],
   "source": [
    "forest_reg = RandomForestRegressor(random_state=45)\n",
    "\n",
    "# train across 5 folds, that's a total of (12+6)*5 = 90 rounds of training \n",
    "grid_search = GridSearchCV(forest_reg, param_grid, cv=5,\n",
    "                           scoring='neg_mean_squared_error',\n",
    "                           return_train_score=True)\n",
    "grid_search.fit(final_train_ordinal, final_train_labels)"
   ]
  },
  {
   "cell_type": "markdown",
   "id": "c52a2049",
   "metadata": {},
   "source": [
    "#### best_params_"
   ]
  },
  {
   "cell_type": "markdown",
   "id": "2d5b5fc9",
   "metadata": {},
   "source": [
    "Using GridSearch, we are able to find the best hyperparameter (n_estimators, max_features) values"
   ]
  },
  {
   "cell_type": "code",
   "execution_count": 105,
   "id": "014a6ec0",
   "metadata": {},
   "outputs": [
    {
     "data": {
      "text/plain": [
       "{'max_features': 4, 'n_estimators': 30}"
      ]
     },
     "execution_count": 105,
     "metadata": {},
     "output_type": "execute_result"
    }
   ],
   "source": [
    "grid_search.best_params_"
   ]
  },
  {
   "cell_type": "markdown",
   "id": "8064dbc2",
   "metadata": {},
   "source": [
    "#### best_estimator_"
   ]
  },
  {
   "cell_type": "code",
   "execution_count": 106,
   "id": "25eda069",
   "metadata": {},
   "outputs": [
    {
     "data": {
      "text/plain": [
       "RandomForestRegressor(max_features=4, n_estimators=30, random_state=45)"
      ]
     },
     "execution_count": 106,
     "metadata": {},
     "output_type": "execute_result"
    }
   ],
   "source": [
    "grid_search.best_estimator_"
   ]
  },
  {
   "cell_type": "markdown",
   "id": "ec1e3b06",
   "metadata": {},
   "source": [
    "#### cv_results_"
   ]
  },
  {
   "cell_type": "code",
   "execution_count": 107,
   "id": "717b3a1d",
   "metadata": {},
   "outputs": [
    {
     "data": {
      "text/plain": [
       "50064.51755639091"
      ]
     },
     "execution_count": 107,
     "metadata": {},
     "output_type": "execute_result"
    }
   ],
   "source": [
    "best = grid_search.cv_results_\n",
    "mean_score = max(best['mean_test_score'])\n",
    "np.sqrt(-mean_score)"
   ]
  },
  {
   "cell_type": "markdown",
   "id": "9a06cec9",
   "metadata": {},
   "source": [
    "#### feature_importances_"
   ]
  },
  {
   "cell_type": "code",
   "execution_count": 108,
   "id": "0823ec95",
   "metadata": {},
   "outputs": [
    {
     "data": {
      "text/plain": [
       "array([0.13233983, 0.12748138, 0.05271884, 0.03667127, 0.03102891,\n",
       "       0.04389813, 0.02921951, 0.44324385, 0.10339828])"
      ]
     },
     "execution_count": 108,
     "metadata": {},
     "output_type": "execute_result"
    }
   ],
   "source": [
    "feature_importances = grid_search.best_estimator_.feature_importances_\n",
    "feature_importances"
   ]
  },
  {
   "cell_type": "markdown",
   "id": "3d38c439",
   "metadata": {},
   "source": [
    "### RandomSearch"
   ]
  },
  {
   "cell_type": "markdown",
   "id": "f5b45483",
   "metadata": {},
   "source": [
    "#### parameter distribs"
   ]
  },
  {
   "cell_type": "code",
   "execution_count": 109,
   "id": "acbaa05e",
   "metadata": {},
   "outputs": [],
   "source": [
    "from sklearn.model_selection import RandomizedSearchCV\n",
    "from scipy.stats import randint\n",
    "\n",
    "param_distribs = {\n",
    "        'n_estimators': randint(low=1, high=200),\n",
    "        'max_features': randint(low=1, high=8),\n",
    "    }"
   ]
  },
  {
   "cell_type": "markdown",
   "id": "c4343693",
   "metadata": {},
   "source": [
    "#### .fit()"
   ]
  },
  {
   "cell_type": "code",
   "execution_count": 110,
   "id": "120e766a",
   "metadata": {},
   "outputs": [
    {
     "data": {
      "text/plain": [
       "RandomizedSearchCV(cv=5, estimator=RandomForestRegressor(random_state=45),\n",
       "                   param_distributions={'max_features': <scipy.stats._distn_infrastructure.rv_frozen object at 0x000002BD3F8803C8>,\n",
       "                                        'n_estimators': <scipy.stats._distn_infrastructure.rv_frozen object at 0x000002BD3F880648>},\n",
       "                   random_state=45, scoring='neg_mean_squared_error')"
      ]
     },
     "execution_count": 110,
     "metadata": {},
     "output_type": "execute_result"
    }
   ],
   "source": [
    "forest_reg = RandomForestRegressor(random_state=45)\n",
    "rnd_search = RandomizedSearchCV(forest_reg, param_distributions=param_distribs,\n",
    "                                n_iter=10, cv=5, scoring='neg_mean_squared_error', random_state=45)\n",
    "rnd_search.fit(final_train_ordinal, final_train_labels)"
   ]
  },
  {
   "cell_type": "markdown",
   "id": "cb2b030a",
   "metadata": {},
   "source": [
    "#### best_params_"
   ]
  },
  {
   "cell_type": "code",
   "execution_count": 111,
   "id": "7643c0cf",
   "metadata": {},
   "outputs": [
    {
     "data": {
      "text/plain": [
       "{'max_features': 4, 'n_estimators': 159}"
      ]
     },
     "execution_count": 111,
     "metadata": {},
     "output_type": "execute_result"
    }
   ],
   "source": [
    "rnd_search.best_params_"
   ]
  },
  {
   "cell_type": "markdown",
   "id": "4c8ef7a2",
   "metadata": {},
   "source": [
    "#### best_estimator_"
   ]
  },
  {
   "cell_type": "code",
   "execution_count": 112,
   "id": "350bb740",
   "metadata": {},
   "outputs": [
    {
     "data": {
      "text/plain": [
       "RandomForestRegressor(max_features=4, n_estimators=159, random_state=45)"
      ]
     },
     "execution_count": 112,
     "metadata": {},
     "output_type": "execute_result"
    }
   ],
   "source": [
    "rnd_search.best_estimator_"
   ]
  },
  {
   "cell_type": "markdown",
   "id": "f2c12a53",
   "metadata": {},
   "source": [
    "#### cv_results_"
   ]
  },
  {
   "cell_type": "code",
   "execution_count": 113,
   "id": "68076a9d",
   "metadata": {},
   "outputs": [
    {
     "data": {
      "text/plain": [
       "48921.84141489697"
      ]
     },
     "execution_count": 113,
     "metadata": {},
     "output_type": "execute_result"
    }
   ],
   "source": [
    "best_rnd = rnd_search.cv_results_\n",
    "mean_score_rnd = max(best_rnd['mean_test_score'])\n",
    "np.sqrt(-mean_score_rnd)"
   ]
  },
  {
   "cell_type": "markdown",
   "id": "f1096718",
   "metadata": {},
   "source": [
    "#### best_score_"
   ]
  },
  {
   "cell_type": "code",
   "execution_count": 114,
   "id": "497e8122",
   "metadata": {},
   "outputs": [
    {
     "data": {
      "text/plain": [
       "48921.84141489697"
      ]
     },
     "execution_count": 114,
     "metadata": {},
     "output_type": "execute_result"
    }
   ],
   "source": [
    "negative_mse = rnd_search.best_score_\n",
    "rmse = np.sqrt(-negative_mse)\n",
    "rmse"
   ]
  },
  {
   "cell_type": "markdown",
   "id": "15bb122f",
   "metadata": {},
   "source": [
    "Random search is better than GridSearch. Thus we will use this as our final Random Forest Model"
   ]
  },
  {
   "cell_type": "markdown",
   "id": "5e6db9a2",
   "metadata": {},
   "source": [
    "#### feature_importances_"
   ]
  },
  {
   "cell_type": "code",
   "execution_count": 115,
   "id": "ce8d8615",
   "metadata": {},
   "outputs": [
    {
     "data": {
      "text/plain": [
       "array([0.1414434 , 0.13288123, 0.0507606 , 0.03644343, 0.03021609,\n",
       "       0.04333436, 0.02909915, 0.43920831, 0.09661342])"
      ]
     },
     "execution_count": 115,
     "metadata": {},
     "output_type": "execute_result"
    }
   ],
   "source": [
    "feature_importances = rnd_search.best_estimator_.feature_importances_\n",
    "feature_importances"
   ]
  },
  {
   "cell_type": "code",
   "execution_count": 116,
   "id": "6d20c569",
   "metadata": {},
   "outputs": [],
   "source": [
    "X_test = strat_test_set.copy().drop(\"median_house_value\", axis=1)\n",
    "X_test_num = X_test.copy().select_dtypes(include=['float64'])\n",
    "X_test_cat = X_test.copy().select_dtypes(include=['O'])\n",
    "y_test = strat_test_set[\"median_house_value\"].copy()"
   ]
  },
  {
   "cell_type": "code",
   "execution_count": 117,
   "id": "9c6250c9",
   "metadata": {},
   "outputs": [
    {
     "data": {
      "text/plain": [
       "['median_income', 'households', 'latitude', 'ocean_proximity']"
      ]
     },
     "execution_count": 117,
     "metadata": {},
     "output_type": "execute_result"
    }
   ],
   "source": [
    "index = np.argpartition(np.array(feature_importances), -9)[-9:]\n",
    "\n",
    "relevant_features = []\n",
    "for i,j in zip(feature_importances, list(np.array(X_test.columns)[index])):\n",
    "    k = [i,j]\n",
    "    relevant_features.append(k)\n",
    "X_test_features = sorted(relevant_features, reverse=True)[:4]\n",
    "\n",
    "X_test_features_final = []\n",
    "for feature in X_test_features:\n",
    "    x = feature[1]\n",
    "    X_test_features_final.append(x)\n",
    "X_test_features_final"
   ]
  },
  {
   "cell_type": "code",
   "execution_count": 118,
   "id": "1f6a263c",
   "metadata": {},
   "outputs": [
    {
     "data": {
      "text/plain": [
       "Index(['longitude', 'latitude', 'housing_median_age', 'total_rooms',\n",
       "       'total_bedrooms', 'population', 'households', 'median_income',\n",
       "       'ocean_proximity'],\n",
       "      dtype='object')"
      ]
     },
     "execution_count": 118,
     "metadata": {},
     "output_type": "execute_result"
    }
   ],
   "source": [
    "X_test.columns # only 4 remains"
   ]
  },
  {
   "cell_type": "markdown",
   "id": "b568f5ec",
   "metadata": {},
   "source": [
    "# 10. Model Evaluation"
   ]
  },
  {
   "cell_type": "markdown",
   "id": "da4471ba",
   "metadata": {},
   "source": [
    "## 10.1 Data Preprocessing"
   ]
  },
  {
   "cell_type": "code",
   "execution_count": 119,
   "id": "0d705125",
   "metadata": {},
   "outputs": [],
   "source": [
    "from sklearn.pipeline import Pipeline\n",
    "from sklearn.preprocessing import StandardScaler\n",
    "from sklearn.compose import ColumnTransformer\n",
    "from sklearn.preprocessing import OrdinalEncoder\n",
    "\n",
    "num_pipeline = Pipeline([\n",
    "                    ('imputer', SimpleImputer(strategy=\"median\")),\n",
    "                    ('std_scaler', StandardScaler()),\n",
    "                    ])\n",
    "\n",
    "full_pipeline = ColumnTransformer([\n",
    "        (\"num\", num_pipeline, list(X_test_num.columns)),\n",
    "        (\"cat\", OrdinalEncoder(), list(X_test_cat.columns)),\n",
    "    ])"
   ]
  },
  {
   "cell_type": "code",
   "execution_count": 120,
   "id": "9833ee8d",
   "metadata": {},
   "outputs": [
    {
     "data": {
      "text/plain": [
       "array([[ 0.57507019, -0.69657252,  0.0329564 , ...,  1.10480288,\n",
       "         2.35845461,  0.        ],\n",
       "       [-0.43480141, -0.33466769, -0.36298077, ..., -0.55602421,\n",
       "         0.61735909,  0.        ],\n",
       "       [ 0.54522177, -0.63547171,  0.58726843, ..., -0.57564994,\n",
       "         0.28422164,  0.        ],\n",
       "       ...,\n",
       "       [-0.08656982, -0.54617051,  1.14158047, ..., -0.37203303,\n",
       "         0.45244009,  0.        ],\n",
       "       [ 0.81385757, -0.92687559,  0.11214383, ..., -0.23955937,\n",
       "         0.56552588,  0.        ],\n",
       "       [ 0.49049967, -0.66367208,  0.58726843, ..., -0.20521435,\n",
       "         0.13904609,  0.        ]])"
      ]
     },
     "execution_count": 120,
     "metadata": {},
     "output_type": "execute_result"
    }
   ],
   "source": [
    "preprocessed_X_test = full_pipeline.fit_transform(X_test)\n",
    "preprocessed_X_test"
   ]
  },
  {
   "cell_type": "code",
   "execution_count": 121,
   "id": "1e910640",
   "metadata": {},
   "outputs": [
    {
     "data": {
      "text/plain": [
       "(4128, 9)"
      ]
     },
     "execution_count": 121,
     "metadata": {},
     "output_type": "execute_result"
    }
   ],
   "source": [
    "preprocessed_X_test.shape # because we used the Ordinal Encoder in the pipeline"
   ]
  },
  {
   "cell_type": "markdown",
   "id": "7d2dd08b",
   "metadata": {},
   "source": [
    "## 10.2 Prediction on test data"
   ]
  },
  {
   "cell_type": "code",
   "execution_count": 122,
   "id": "97f159a5",
   "metadata": {},
   "outputs": [
    {
     "data": {
      "text/plain": [
       "array([476555.41509434, 198073.60377358, 216409.45283019, ...,\n",
       "       351532.88050314, 259917.62264151, 223511.94968553])"
      ]
     },
     "execution_count": 122,
     "metadata": {},
     "output_type": "execute_result"
    }
   ],
   "source": [
    "final_model = rnd_search.best_estimator_ # Random Forest\n",
    "\n",
    "predictions = final_model.predict(preprocessed_X_test)\n",
    "predictions"
   ]
  },
  {
   "cell_type": "markdown",
   "id": "f5ff04d4",
   "metadata": {},
   "source": [
    "## 10.3 RSME"
   ]
  },
  {
   "cell_type": "code",
   "execution_count": 123,
   "id": "9f8370a5",
   "metadata": {},
   "outputs": [
    {
     "data": {
      "text/plain": [
       "51046.213280852426"
      ]
     },
     "execution_count": 123,
     "metadata": {},
     "output_type": "execute_result"
    }
   ],
   "source": [
    "final_test_rmse = mean_squared_error(y_test, predictions, squared=False)\n",
    "final_test_rmse"
   ]
  },
  {
   "cell_type": "markdown",
   "id": "1360fbb0",
   "metadata": {},
   "source": [
    "# 11. Confidence Interval"
   ]
  },
  {
   "cell_type": "markdown",
   "id": "4425d055",
   "metadata": {},
   "source": [
    "- We perform a statistical test to determine the range of our error scores"
   ]
  },
  {
   "cell_type": "markdown",
   "id": "477b4121",
   "metadata": {},
   "source": [
    "## t-test"
   ]
  },
  {
   "cell_type": "code",
   "execution_count": 124,
   "id": "deb4c2f8",
   "metadata": {},
   "outputs": [
    {
     "data": {
      "text/plain": [
       "array([49191.14439956, 52836.19113156])"
      ]
     },
     "execution_count": 124,
     "metadata": {},
     "output_type": "execute_result"
    }
   ],
   "source": [
    "from scipy import stats\n",
    "\n",
    "confidence = 0.95\n",
    "squared_errors = (predictions - y_test) ** 2\n",
    "np.sqrt(stats.t.interval(confidence, len(squared_errors) - 1,\n",
    "                         loc=squared_errors.mean(),\n",
    "                         scale=stats.sem(squared_errors)))"
   ]
  },
  {
   "cell_type": "markdown",
   "id": "d1169fca",
   "metadata": {},
   "source": [
    "With 95% confidence, the true rmse is between this interval"
   ]
  },
  {
   "cell_type": "markdown",
   "id": "d3cda0b4",
   "metadata": {},
   "source": [
    "## z-test"
   ]
  },
  {
   "cell_type": "code",
   "execution_count": 125,
   "id": "07cd25c4",
   "metadata": {},
   "outputs": [
    {
     "data": {
      "text/plain": [
       "(49191.14439955815, 52836.19113155648)"
      ]
     },
     "execution_count": 125,
     "metadata": {},
     "output_type": "execute_result"
    }
   ],
   "source": [
    "m = len(squared_errors)\n",
    "mean = squared_errors.mean()\n",
    "tscore = stats.t.ppf((1 + confidence) / 2, df=m - 1)\n",
    "tmargin = tscore * squared_errors.std(ddof=1) / np.sqrt(m)\n",
    "np.sqrt(mean - tmargin), np.sqrt(mean + tmargin)"
   ]
  },
  {
   "cell_type": "markdown",
   "id": "356b7276",
   "metadata": {},
   "source": [
    "With 95% confidence, the true rmse is between this interval"
   ]
  },
  {
   "cell_type": "markdown",
   "id": "f4cad712",
   "metadata": {},
   "source": [
    "# 10. Model Selection"
   ]
  },
  {
   "cell_type": "markdown",
   "id": "e03813fe",
   "metadata": {},
   "source": [
    "## Save model"
   ]
  },
  {
   "cell_type": "code",
   "execution_count": 126,
   "id": "47122182",
   "metadata": {},
   "outputs": [],
   "source": [
    "import pickle as pkl\n",
    "import os\n",
    "\n",
    "with open(os.path.join(\"models\", \"California_Housing_Price_Predictor.pkl\"), 'wb') as f:\n",
    "    pkl.dump(final_model, f)"
   ]
  },
  {
   "cell_type": "markdown",
   "id": "a89e31f4",
   "metadata": {},
   "source": [
    "## Import model"
   ]
  },
  {
   "cell_type": "code",
   "execution_count": 127,
   "id": "0d11c59a",
   "metadata": {},
   "outputs": [],
   "source": [
    "import os\n",
    "import pickle as pkl\n",
    "\n",
    "with open(os.path.join(\"models\", \"California_Housing_Price_Predictor.pkl\"), 'rb') as file:\n",
    "    model = pkl.load(file)\n",
    "\n",
    "with open(os.path.join(\"models\", \"num_features_imputer.pkl\"), 'rb') as file:\n",
    "    imputer = pkl.load(file)\n",
    "\n",
    "with open(os.path.join(\"models\", \"num_features_scaler.pkl\"), 'rb') as file:\n",
    "    std_scaler = pkl.load(file)\n",
    "\n",
    "with open(os.path.join(\"models\", \"ordinal_encoder.pkl\"), 'rb') as file:\n",
    "    ordinal_encoder = pkl.load(file)"
   ]
  },
  {
   "cell_type": "markdown",
   "id": "76f5e686",
   "metadata": {},
   "source": [
    "## Test model"
   ]
  },
  {
   "cell_type": "code",
   "execution_count": 30,
   "id": "a6bd0686",
   "metadata": {},
   "outputs": [
    {
     "data": {
      "text/plain": [
       "[-118.7, 34.12, 24.0, 2020.0, 1456.0, 267.0, 301.0, 3.245, 'NEAR OCEAN']"
      ]
     },
     "execution_count": 30,
     "metadata": {},
     "output_type": "execute_result"
    }
   ],
   "source": [
    "columns = [\"longitude\",\n",
    "           \"latitude\",\n",
    "           \"housing_median_age\",\n",
    "           \"total_rooms\",\n",
    "           \"total_bedrooms\",\n",
    "           \"population\",\n",
    "           \"households\",\n",
    "           \"median_income\",\n",
    "           \"ocean_proximity\"\n",
    "           ]\n",
    "\n",
    "values = [float(input(f\"{col}: \"))for col in columns[:8]]\n",
    "\n",
    "ocean_proximity = input(f\"{columns[-1]}: \")\n",
    "values.append(ocean_proximity)\n",
    "\n",
    "values"
   ]
  },
  {
   "cell_type": "code",
   "execution_count": 128,
   "id": "2549ea2d",
   "metadata": {},
   "outputs": [
    {
     "data": {
      "text/html": [
       "<div>\n",
       "<style scoped>\n",
       "    .dataframe tbody tr th:only-of-type {\n",
       "        vertical-align: middle;\n",
       "    }\n",
       "\n",
       "    .dataframe tbody tr th {\n",
       "        vertical-align: top;\n",
       "    }\n",
       "\n",
       "    .dataframe thead th {\n",
       "        text-align: right;\n",
       "    }\n",
       "</style>\n",
       "<table border=\"1\" class=\"dataframe\">\n",
       "  <thead>\n",
       "    <tr style=\"text-align: right;\">\n",
       "      <th></th>\n",
       "      <th>longitude</th>\n",
       "      <th>latitude</th>\n",
       "      <th>housing_median_age</th>\n",
       "      <th>total_rooms</th>\n",
       "      <th>total_bedrooms</th>\n",
       "      <th>population</th>\n",
       "      <th>households</th>\n",
       "      <th>median_income</th>\n",
       "      <th>ocean_proximity</th>\n",
       "    </tr>\n",
       "  </thead>\n",
       "  <tbody>\n",
       "    <tr>\n",
       "      <th>0</th>\n",
       "      <td>-118.7</td>\n",
       "      <td>34.12</td>\n",
       "      <td>24.0</td>\n",
       "      <td>2020.0</td>\n",
       "      <td>1456.0</td>\n",
       "      <td>267.0</td>\n",
       "      <td>301.0</td>\n",
       "      <td>3.245</td>\n",
       "      <td>NEAR OCEAN</td>\n",
       "    </tr>\n",
       "  </tbody>\n",
       "</table>\n",
       "</div>"
      ],
      "text/plain": [
       "  longitude latitude housing_median_age total_rooms total_bedrooms population  \\\n",
       "0    -118.7    34.12               24.0      2020.0         1456.0      267.0   \n",
       "\n",
       "  households median_income ocean_proximity  \n",
       "0      301.0         3.245      NEAR OCEAN  "
      ]
     },
     "execution_count": 128,
     "metadata": {},
     "output_type": "execute_result"
    }
   ],
   "source": [
    "import pandas as pd\n",
    "\n",
    "prototype_values = pd.DataFrame(values, \n",
    "                                index = columns).transpose()\n",
    "prototype_values"
   ]
  },
  {
   "cell_type": "markdown",
   "id": "21ba509c",
   "metadata": {},
   "source": [
    "### Impute"
   ]
  },
  {
   "cell_type": "code",
   "execution_count": 129,
   "id": "c14bfe39",
   "metadata": {},
   "outputs": [
    {
     "data": {
      "text/html": [
       "<div>\n",
       "<style scoped>\n",
       "    .dataframe tbody tr th:only-of-type {\n",
       "        vertical-align: middle;\n",
       "    }\n",
       "\n",
       "    .dataframe tbody tr th {\n",
       "        vertical-align: top;\n",
       "    }\n",
       "\n",
       "    .dataframe thead th {\n",
       "        text-align: right;\n",
       "    }\n",
       "</style>\n",
       "<table border=\"1\" class=\"dataframe\">\n",
       "  <thead>\n",
       "    <tr style=\"text-align: right;\">\n",
       "      <th></th>\n",
       "      <th>longitude</th>\n",
       "      <th>latitude</th>\n",
       "      <th>housing_median_age</th>\n",
       "      <th>total_rooms</th>\n",
       "      <th>total_bedrooms</th>\n",
       "      <th>population</th>\n",
       "      <th>households</th>\n",
       "      <th>median_income</th>\n",
       "      <th>ocean_proximity</th>\n",
       "    </tr>\n",
       "  </thead>\n",
       "  <tbody>\n",
       "    <tr>\n",
       "      <th>0</th>\n",
       "      <td>-118.7</td>\n",
       "      <td>34.12</td>\n",
       "      <td>24.0</td>\n",
       "      <td>2020.0</td>\n",
       "      <td>1456.0</td>\n",
       "      <td>267.0</td>\n",
       "      <td>301.0</td>\n",
       "      <td>3.245</td>\n",
       "      <td>NEAR OCEAN</td>\n",
       "    </tr>\n",
       "  </tbody>\n",
       "</table>\n",
       "</div>"
      ],
      "text/plain": [
       "   longitude  latitude  housing_median_age  total_rooms  total_bedrooms  \\\n",
       "0     -118.7     34.12                24.0       2020.0          1456.0   \n",
       "\n",
       "   population  households  median_income ocean_proximity  \n",
       "0       267.0       301.0          3.245      NEAR OCEAN  "
      ]
     },
     "execution_count": 129,
     "metadata": {},
     "output_type": "execute_result"
    }
   ],
   "source": [
    "prototype_values[columns[:8]] = imputer.transform(prototype_values[columns[:8]])\n",
    "prototype_values"
   ]
  },
  {
   "cell_type": "markdown",
   "id": "1f5f0dc9",
   "metadata": {},
   "source": [
    "### Scale"
   ]
  },
  {
   "cell_type": "code",
   "execution_count": 130,
   "id": "ac0671cd",
   "metadata": {},
   "outputs": [
    {
     "data": {
      "text/html": [
       "<div>\n",
       "<style scoped>\n",
       "    .dataframe tbody tr th:only-of-type {\n",
       "        vertical-align: middle;\n",
       "    }\n",
       "\n",
       "    .dataframe tbody tr th {\n",
       "        vertical-align: top;\n",
       "    }\n",
       "\n",
       "    .dataframe thead th {\n",
       "        text-align: right;\n",
       "    }\n",
       "</style>\n",
       "<table border=\"1\" class=\"dataframe\">\n",
       "  <thead>\n",
       "    <tr style=\"text-align: right;\">\n",
       "      <th></th>\n",
       "      <th>longitude</th>\n",
       "      <th>latitude</th>\n",
       "      <th>housing_median_age</th>\n",
       "      <th>total_rooms</th>\n",
       "      <th>total_bedrooms</th>\n",
       "      <th>population</th>\n",
       "      <th>households</th>\n",
       "      <th>median_income</th>\n",
       "      <th>ocean_proximity</th>\n",
       "    </tr>\n",
       "  </thead>\n",
       "  <tbody>\n",
       "    <tr>\n",
       "      <th>0</th>\n",
       "      <td>0.437431</td>\n",
       "      <td>-0.710658</td>\n",
       "      <td>-0.370069</td>\n",
       "      <td>-0.281778</td>\n",
       "      <td>2.244582</td>\n",
       "      <td>-1.033217</td>\n",
       "      <td>-0.521745</td>\n",
       "      <td>-0.331195</td>\n",
       "      <td>NEAR OCEAN</td>\n",
       "    </tr>\n",
       "  </tbody>\n",
       "</table>\n",
       "</div>"
      ],
      "text/plain": [
       "   longitude  latitude  housing_median_age  total_rooms  total_bedrooms  \\\n",
       "0   0.437431 -0.710658           -0.370069    -0.281778        2.244582   \n",
       "\n",
       "   population  households  median_income ocean_proximity  \n",
       "0   -1.033217   -0.521745      -0.331195      NEAR OCEAN  "
      ]
     },
     "execution_count": 130,
     "metadata": {},
     "output_type": "execute_result"
    }
   ],
   "source": [
    "prototype_values[columns[:8]] = std_scaler.transform(prototype_values[columns[:8]])\n",
    "prototype_values"
   ]
  },
  {
   "cell_type": "markdown",
   "id": "2fb222f8",
   "metadata": {},
   "source": [
    "### Encode"
   ]
  },
  {
   "cell_type": "code",
   "execution_count": 131,
   "id": "33f58046",
   "metadata": {},
   "outputs": [
    {
     "data": {
      "text/html": [
       "<div>\n",
       "<style scoped>\n",
       "    .dataframe tbody tr th:only-of-type {\n",
       "        vertical-align: middle;\n",
       "    }\n",
       "\n",
       "    .dataframe tbody tr th {\n",
       "        vertical-align: top;\n",
       "    }\n",
       "\n",
       "    .dataframe thead th {\n",
       "        text-align: right;\n",
       "    }\n",
       "</style>\n",
       "<table border=\"1\" class=\"dataframe\">\n",
       "  <thead>\n",
       "    <tr style=\"text-align: right;\">\n",
       "      <th></th>\n",
       "      <th>longitude</th>\n",
       "      <th>latitude</th>\n",
       "      <th>housing_median_age</th>\n",
       "      <th>total_rooms</th>\n",
       "      <th>total_bedrooms</th>\n",
       "      <th>population</th>\n",
       "      <th>households</th>\n",
       "      <th>median_income</th>\n",
       "      <th>ocean_proximity</th>\n",
       "    </tr>\n",
       "  </thead>\n",
       "  <tbody>\n",
       "    <tr>\n",
       "      <th>0</th>\n",
       "      <td>0.437431</td>\n",
       "      <td>-0.710658</td>\n",
       "      <td>-0.370069</td>\n",
       "      <td>-0.281778</td>\n",
       "      <td>2.244582</td>\n",
       "      <td>-1.033217</td>\n",
       "      <td>-0.521745</td>\n",
       "      <td>-0.331195</td>\n",
       "      <td>4.0</td>\n",
       "    </tr>\n",
       "  </tbody>\n",
       "</table>\n",
       "</div>"
      ],
      "text/plain": [
       "   longitude  latitude  housing_median_age  total_rooms  total_bedrooms  \\\n",
       "0   0.437431 -0.710658           -0.370069    -0.281778        2.244582   \n",
       "\n",
       "   population  households  median_income  ocean_proximity  \n",
       "0   -1.033217   -0.521745      -0.331195              4.0  "
      ]
     },
     "execution_count": 131,
     "metadata": {},
     "output_type": "execute_result"
    }
   ],
   "source": [
    "prototype_values[\"ocean_proximity\"] = ordinal_encoder.transform(prototype_values[[\"ocean_proximity\"]])\n",
    "prototype_values"
   ]
  },
  {
   "cell_type": "markdown",
   "id": "005bb108",
   "metadata": {},
   "source": [
    "### Predict"
   ]
  },
  {
   "cell_type": "code",
   "execution_count": 132,
   "id": "6e0b53bd",
   "metadata": {},
   "outputs": [
    {
     "name": "stdout",
     "output_type": "stream",
     "text": [
      "Median House Value: [309116.48427673]\n"
     ]
    }
   ],
   "source": [
    "prediction = model.predict(prototype_values)\n",
    "print(f\"Median House Value: {prediction}\")"
   ]
  },
  {
   "cell_type": "code",
   "execution_count": null,
   "id": "51b5296c",
   "metadata": {},
   "outputs": [],
   "source": []
  }
 ],
 "metadata": {
  "kernelspec": {
   "display_name": ".venv",
   "language": "python",
   "name": "python3"
  },
  "language_info": {
   "codemirror_mode": {
    "name": "ipython",
    "version": 3
   },
   "file_extension": ".py",
   "mimetype": "text/x-python",
   "name": "python",
   "nbconvert_exporter": "python",
   "pygments_lexer": "ipython3",
   "version": "3.7.9"
  }
 },
 "nbformat": 4,
 "nbformat_minor": 5
}
